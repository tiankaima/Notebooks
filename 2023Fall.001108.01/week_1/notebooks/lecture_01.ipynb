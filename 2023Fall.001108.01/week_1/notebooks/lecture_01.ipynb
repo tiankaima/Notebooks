{
 "cells": [
  {
   "cell_type": "markdown",
   "id": "833c05c6-4e59-4158-9508-9a697b22200d",
   "metadata": {},
   "source": [
    "# Lecture 1"
   ]
  },
  {
   "cell_type": "markdown",
   "id": "49d9cb1a-100b-4581-986b-16420fec68c6",
   "metadata": {},
   "source": [
    "## Q 1.1\n",
    "\n",
    "### Question\n",
    "let $f_n(x) = \\sum\\limits_{k=1}^n (-1)^k \\dfrac {x^{2k +1}} {(2k + 1)!}$, for $n = 3, 4, \\cdots, 7$ calculate zeros near $x = 3$ using newton's method, analyze zeros as n increases."
   ]
  },
  {
   "cell_type": "markdown",
   "id": "919906be-3b07-4371-b642-2ebf65b1fea9",
   "metadata": {},
   "source": [
    "------"
   ]
  },
  {
   "cell_type": "markdown",
   "id": "f977cba8-9fc6-4ff6-9d28-dbba574f3255",
   "metadata": {},
   "source": [
    "### Solution"
   ]
  },
  {
   "cell_type": "markdown",
   "id": "c8c673fc-c542-4bad-9387-4514a6056a43",
   "metadata": {},
   "source": [
    "**About newton's method for apporximating zeros:**\n",
    "\n",
    "Ignoring all the maths, the following iteration formula comes out:\n",
    "\n",
    "$$\n",
    "x_n = x_{n-1} - \\dfrac {f(x_{n-1})} {f^{\\prime}(x_{n-1})}\n",
    "$$\n",
    "\n",
    "So let's break down the goal:\n",
    "\n",
    "* create $f$\n",
    "* create $f^{\\prime}$\n",
    "* create iteration"
   ]
  },
  {
   "cell_type": "markdown",
   "id": "12fe494b-3ab6-4b87-b19a-1af035a2b9ac",
   "metadata": {},
   "source": [
    "#### Step one: Declare the function:\n",
    "\n",
    "> Notes about the following declaration:\n",
    ">\n",
    "> * Inline code is used to save space & time, jupyter magic is another workaround, see [here](https://am111.readthedocs.io/en/latest/jmatlab_use.html)\n",
    "> * `sysm k` is used to prevent variable not found error, `symsum` would provide value for `k`"
   ]
  },
  {
   "cell_type": "code",
   "execution_count": 1,
   "id": "b05ccba2-ca66-4f73-b17c-661cef457f39",
   "metadata": {},
   "outputs": [
    {
     "data": {
      "image/png": "[encoded data removed]"
     },
     "execution_count": 1,
     "metadata": {},
     "output_type": "execute_result"
    }
   ],
   "source": [
    "syms k\n",
    "f = @(n,x) symsum((-1)^k*x.^(2*k+1)/factorial(2*k+1),k,0,n+1);\n",
    "\n",
    "% Visualization:\n",
    "x = -pi/2:0.1:pi;\n",
    "for n=3:7\n",
    "    y = f(n,x);\n",
    "    plot(x,y)\n",
    "    hold on\n",
    "end\n",
    "hold off"
   ]
  },
  {
   "cell_type": "markdown",
   "id": "168e1cac-46e0-4e88-af2a-af4766f89a50",
   "metadata": {},
   "source": [
    "#### Step two: Create $f^{\\prime}$"
   ]
  },
  {
   "cell_type": "code",
   "execution_count": 2,
   "id": "cb3e5caa-6c42-4249-ba81-2ea6c8efa878",
   "metadata": {},
   "outputs": [],
   "source": [
    "delta = 1e-10;"
   ]
  },
  {
   "cell_type": "code",
   "execution_count": 3,
   "id": "4f916f02-ede9-4818-b1af-784e054dc4ac",
   "metadata": {},
   "outputs": [
    {
     "data": {
      "text/html": [
       "<html><body><pre>ans = \n",
       "   2.000000165480742\n",
       "</pre></body></html>"
      ],
      "text/plain": [
       "ans = \n",
       "   2.000000165480742\n"
      ]
     },
     "execution_count": 3,
     "metadata": {},
     "output_type": "execute_result"
    },
    {
     "data": {
      "text/html": [
       "<html><body><pre>ans = \n",
       "   4.000000330961484\n",
       "</pre></body></html>"
      ],
      "text/plain": [
       "ans = \n",
       "   4.000000330961484\n"
      ]
     },
     "execution_count": 3,
     "metadata": {},
     "output_type": "execute_result"
    },
    {
     "data": {
      "text/html": [
       "<html><body><pre>ans = \n",
       "   6.000000496442226\n",
       "</pre></body></html>"
      ],
      "text/plain": [
       "ans = \n",
       "   6.000000496442226\n"
      ]
     },
     "execution_count": 3,
     "metadata": {},
     "output_type": "execute_result"
    }
   ],
   "source": [
    "div = @(f,x) (f(x+delta)-f(x-delta))/(2*delta);\n",
    "\n",
    "% test:\n",
    "square = @(x) x^2;\n",
    "div(square, 1)\n",
    "div(square, 2)\n",
    "div(square, 3)"
   ]
  },
  {
   "cell_type": "markdown",
   "id": "d13b4b14-8b62-4e1b-b14e-1d8e112ec4ad",
   "metadata": {},
   "source": [
    "#### Step three: Create iteration"
   ]
  },
  {
   "cell_type": "code",
   "execution_count": 4,
   "id": "25a6f7ff-6922-43ae-8697-040280b796f8",
   "metadata": {},
   "outputs": [
    {
     "data": {
      "text/html": [
       "<html><body><pre>ans = \n",
       "   1.000000082740364\n",
       "</pre></body></html>"
      ],
      "text/plain": [
       "ans = \n",
       "   1.000000082740364\n"
      ]
     },
     "execution_count": 4,
     "metadata": {},
     "output_type": "execute_result"
    },
    {
     "data": {
      "text/html": [
       "<html><body><pre>ans = \n",
       "   0.500000041370182\n",
       "</pre></body></html>"
      ],
      "text/plain": [
       "ans = \n",
       "   0.500000041370182\n"
      ]
     },
     "execution_count": 4,
     "metadata": {},
     "output_type": "execute_result"
    },
    {
     "data": {
      "text/html": [
       "<html><body><pre>ans = \n",
       "   0.250000020685091\n",
       "</pre></body></html>"
      ],
      "text/plain": [
       "ans = \n",
       "   0.250000020685091\n"
      ]
     },
     "execution_count": 4,
     "metadata": {},
     "output_type": "execute_result"
    },
    {
     "data": {
      "text/html": [
       "<html><body><pre>ans = \n",
       "   0.125000010342546\n",
       "</pre></body></html>"
      ],
      "text/plain": [
       "ans = \n",
       "   0.125000010342546\n"
      ]
     },
     "execution_count": 4,
     "metadata": {},
     "output_type": "execute_result"
    }
   ],
   "source": [
    "newton_iteration = @(f, x_n) x_n - f(x_n) / div(f,x_n);\n",
    "\n",
    "% test:\n",
    "newton_iteration(square, 2)\n",
    "newton_iteration(square, 1)\n",
    "newton_iteration(square, 0.5)\n",
    "newton_iteration(square, 0.25)"
   ]
  },
  {
   "cell_type": "markdown",
   "id": "58f37ebb-bced-4125-b624-ad810ac9258d",
   "metadata": {},
   "source": [
    "The result is expected since $(x^2)^\\prime = 2x$, so\n",
    "$$\n",
    "x_n = x_{n-1} - \\dfrac {x_{n-1}^2} {2 x_{n-1}} = \\frac 12 x_{n-1}\n",
    "$$"
   ]
  },
  {
   "cell_type": "markdown",
   "id": "fa84d381-b12e-433f-94bc-381c54f2ee3d",
   "metadata": {},
   "source": [
    "Final loop:"
   ]
  },
  {
   "cell_type": "code",
   "execution_count": 5,
   "id": "3873f5e4-be79-4990-b764-e5f7b1600149",
   "metadata": {},
   "outputs": [],
   "source": [
    "steps = 20;\n",
    "digits_to_keep = 50;"
   ]
  },
  {
   "cell_type": "code",
   "execution_count": 6,
   "id": "a5c5a0f0-4eba-42cd-936f-6e19e759325a",
   "metadata": {
    "tags": []
   },
   "outputs": [
    {
     "name": "stdout",
     "output_type": "stream",
     "text": [
      "[ 1]: 0.00000000000000000000000000000000000000000000000000\n",
      "[ 2]: 3.07864230448151321439809180446900427341461181640625\n",
      "[ 3]: 3.14869007146696189280987709935288876295089721679688\n",
      "[ 4]: 3.14114830541266476515716021822299808263778686523438\n",
      "[ 5]: 3.14161379828186593243799507035873830318450927734375\n",
      "[ 6]: 3.14159188080712414858908232417888939380645751953125\n",
      "[ 7]: 3.14159267600930647290624619927257299423217773437500\n",
      "[ 8]: 3.14159265306087442937155174149665981531143188476562\n",
      "[ 9]: 3.14159265360014128276588962762616574764251708984375\n",
      "[10]: 3.14159265358962258574138104449957609176635742187500\n",
      "[11]: 3.14159265358979578053322256891988217830657958984375\n",
      "[12]: 3.14159265358979311599796346854418516159057617187500\n",
      "[13]: 3.14159265358979311599796346854418516159057617187500\n",
      "[14]: 3.14159265358979311599796346854418516159057617187500\n",
      "[15]: 3.14159265358979311599796346854418516159057617187500\n",
      "[16]: 3.14159265358979311599796346854418516159057617187500\n",
      "[17]: 3.14159265358979311599796346854418516159057617187500\n",
      "[18]: 3.14159265358979311599796346854418516159057617187500\n",
      "[19]: 3.14159265358979311599796346854418516159057617187500\n",
      "[20]: 3.14159265358979311599796346854418516159057617187500\n"
     ]
    }
   ],
   "source": [
    "format long;\n",
    "\n",
    "for n=1:steps\n",
    "    f_tmp = @(x) f(n,x);\n",
    "    x=3.0;\n",
    "    for c=1:steps\n",
    "        x = round(newton_iteration(f_tmp, x), digits_to_keep);\n",
    "    end\n",
    "    fprintf('[%2.d]: %.50f\\n', n, x);\n",
    "end"
   ]
  },
  {
   "cell_type": "markdown",
   "id": "5fcec3ba-a8dd-4284-8582-724a2586a2fb",
   "metadata": {},
   "source": [
    "As discovered, as n increases, calculated $x_{n0} \\to \\pi$. It should as $n\\to\\infty, f_n \\to\\sin x$, which have a root of $x_0=\\pi$"
   ]
  },
  {
   "cell_type": "code",
   "execution_count": 7,
   "id": "2582fbe8",
   "metadata": {},
   "outputs": [],
   "source": [
    "clear all;"
   ]
  },
  {
   "cell_type": "markdown",
   "id": "9e937701",
   "metadata": {},
   "source": [
    "## Q 1.2\n",
    "\n",
    "### Question\n",
    "Draw $(\\dfrac 1n, \\sin(n)),\\quad \\forall n = 1\\cdots +\\infty$\n",
    "\n",
    "For a given $k$, shown what's the nearest point to $A_k = (\\dfrac 1k, \\sin(k))$ on the graph, connect the graph likewise."
   ]
  },
  {
   "cell_type": "markdown",
   "id": "039e810b",
   "metadata": {},
   "source": [
    "------"
   ]
  },
  {
   "cell_type": "markdown",
   "id": "d1478ad8",
   "metadata": {},
   "source": [
    "### Solution"
   ]
  },
  {
   "cell_type": "code",
   "execution_count": 8,
   "id": "dcbe757b",
   "metadata": {},
   "outputs": [
    {
     "data": {
      "image/png": "[encoded data removed]"
     },
     "execution_count": 8,
     "metadata": {},
     "output_type": "execute_result"
    }
   ],
   "source": [
    "n = 1:10000;\n",
    "x = 1./n;\n",
    "y = sin(n);\n",
    "plot(x,y,'.')\n",
    "axis([0, 4*10^(-3), -1,1]);"
   ]
  },
  {
   "cell_type": "markdown",
   "id": "c8ea4c2d",
   "metadata": {},
   "source": [
    "There's not too much to analyze here, the basic solution is described as following:\n",
    "\n",
    "* for each given $n$, that is to say, emurate $n$, determine $m$ so that $A_n$ and $A_m$ have the closest distance\n",
    "* connect $A_n$ and $A_m$ on the graph"
   ]
  },
  {
   "cell_type": "code",
   "execution_count": 9,
   "id": "075f468c",
   "metadata": {},
   "outputs": [
    {
     "data": {
      "image/png": "[encoded data removed]"
     },
     "execution_count": 9,
     "metadata": {},
     "output_type": "execute_result"
    }
   ],
   "source": [
    "n = 1:10000;\n",
    "x = 1./n;\n",
    "y = sin(n);\n",
    "plot(x,y,'.')\n",
    "hold on\n",
    "\n",
    "for n=1:10000\n",
    "    pointN = [1/n, sin(n)];\n",
    "    dmin=inf;\n",
    "    best_m=0;\n",
    "\n",
    "    % for m=1:10000\n",
    "    %     pointM = [1/m, sin(m)];\n",
    "    %     d = sqrt( (pointN(1)-pointM(1))^2 * 10^6 + (pointN(2)-pointM(2))^2 );\n",
    "    %     if d < dmin & d > 0\n",
    "    %         dmin = d;\n",
    "    %         best_m = m;\n",
    "    %     end\n",
    "    % end\n",
    "\n",
    "    % m = best_m;\n",
    "    m = n + 44;\n",
    "    pointM = [1/m, sin(m)];\n",
    "\n",
    "    plot([pointN(1),pointM(1)], [pointN(2),pointM(2)]);\n",
    "    hold on\n",
    "end\n",
    "hold off\n",
    "axis([0, 4*10^(-3), -1,1]);"
   ]
  },
  {
   "cell_type": "code",
   "execution_count": 10,
   "id": "dc016a5b-1fec-470f-9921-c27136235030",
   "metadata": {},
   "outputs": [],
   "source": [
    "clear all;"
   ]
  },
  {
   "cell_type": "markdown",
   "id": "55081599",
   "metadata": {},
   "source": [
    "## Q 1.3\n",
    "\n",
    "### Question\n",
    "\n",
    "#### Task 1\n",
    "\n",
    "**Calculate the value of $\\large\\int_{1}^{2} \\dfrac{1}{x} dx$.**\n",
    "\n",
    "* Calculate darboux upper and lower sums ($\\Sigma_n, \\sigma_n$) with $n = 10^m(m=3,4,5,6)$ subintervals, and their average\n",
    "* Analyze the convergence of $\\Sigma_n, \\sigma_n$, guess the value of $\\large\\int_{1}^{2} \\dfrac{1}{x} dx$.\n",
    "* Calculate the value of $\\large\\int_{1}^{2} \\dfrac{1}{x} dx$ and compare the result with the value you guess.\n",
    "\n",
    "#### Task 2\n",
    "\n",
    "Draw graph of $S(x) = \\large\\int_{1}^{x} \\dfrac{1}{t} \\mathop{dt}$, calculate it's root, and discuss it's relationship with natural log $e$.\n"
   ]
  },
  {
   "cell_type": "markdown",
   "id": "e3e88aac-7150-4fd8-8d55-c6b030814cda",
   "metadata": {
    "tags": []
   },
   "source": [
    "------"
   ]
  },
  {
   "cell_type": "markdown",
   "id": "445df3ec",
   "metadata": {},
   "source": [
    "### Solution"
   ]
  },
  {
   "cell_type": "markdown",
   "id": "6da63e6c",
   "metadata": {},
   "source": [
    "#### Task 1"
   ]
  },
  {
   "cell_type": "code",
   "execution_count": 11,
   "id": "d9ab724c",
   "metadata": {
    "tags": []
   },
   "outputs": [
    {
     "name": "stdout",
     "output_type": "stream",
     "text": [
      "n = 1000\n",
      "lower_sum = 0.692897, upper_sum = 0.693397\n",
      "average = 0.693147\n",
      "error = 0.000000\n",
      "\n",
      "n = 10000\n",
      "lower_sum = 0.693122, upper_sum = 0.693172\n",
      "average = 0.693147\n",
      "error = 0.000000\n",
      "\n",
      "n = 100000\n",
      "lower_sum = 0.693145, upper_sum = 0.693150\n",
      "average = 0.693147\n",
      "error = 0.000000\n",
      "\n",
      "n = 1000000\n",
      "lower_sum = 0.693147, upper_sum = 0.693147\n",
      "average = 0.693147\n",
      "error = 0.000000\n",
      "\n",
      "n = 10000000\n",
      "lower_sum = 0.693147, upper_sum = 0.693147\n",
      "average = 0.693147\n",
      "error = 0.000000\n",
      "\n"
     ]
    },
    {
     "data": {
      "image/png": "[encoded data removed]"
     },
     "execution_count": 11,
     "metadata": {},
     "output_type": "execute_result"
    }
   ],
   "source": [
    "range=3:7;\n",
    "lower_sums=[];\n",
    "upper_sums=[];\n",
    "\n",
    "for m=range\n",
    "    n=10^m;\n",
    "    lower_sum = 0;\n",
    "    upper_sum = 0;\n",
    "\n",
    "    for k=0:n-1\n",
    "        lower_sum = lower_sum + (1/(n+k+1));\n",
    "        upper_sum = upper_sum + (1/(n+k));\n",
    "    end\n",
    "\n",
    "    average = (lower_sum + upper_sum)/2;\n",
    "    fprintf('n = %d\\n', n);\n",
    "    error = abs(average - log(2));\n",
    "    fprintf('lower_sum = %f, upper_sum = %f\\n', lower_sum, upper_sum);\n",
    "    fprintf('average = %f\\n', average);\n",
    "    fprintf('error = %f\\n\\n', error);\n",
    "    lower_sums = [lower_sums, lower_sum];\n",
    "    upper_sums = [upper_sums, upper_sum];\n",
    "end\n",
    "\n",
    "subplot(1,1,1)\n",
    "\n",
    "plot(range, upper_sums);\n",
    "hold on;\n",
    "plot(range, lower_sums);\n",
    "plot(range, zeros(length(range),1) + log(2));\n",
    "hold off;"
   ]
  },
  {
   "cell_type": "markdown",
   "id": "96c88176",
   "metadata": {},
   "source": [
    "#### Task 2"
   ]
  },
  {
   "cell_type": "code",
   "execution_count": 12,
   "id": "18972dee",
   "metadata": {},
   "outputs": [],
   "source": [
    "syms s x\n",
    "S = int(1/s, s, 1, x);"
   ]
  },
  {
   "cell_type": "code",
   "execution_count": 13,
   "id": "bdf7bfac",
   "metadata": {},
   "outputs": [
    {
     "data": {
      "image/png": "[encoded data removed]"
     },
     "execution_count": 13,
     "metadata": {},
     "output_type": "execute_result"
    }
   ],
   "source": [
    "a = 0.1:0.01:10;\n",
    "b = double(subs(S, x, a));\n",
    "\n",
    "subplot(2,2,1)\n",
    "plot(a,b);\n",
    "subplot(2,2,2)\n",
    "plot(a, log(a));"
   ]
  },
  {
   "cell_type": "markdown",
   "id": "ac4edd29",
   "metadata": {},
   "source": [
    "It's easy to see $S(x) \\equiv \\ln x$, so the root of $S(x)$ is $1$:"
   ]
  },
  {
   "cell_type": "code",
   "execution_count": 14,
   "id": "4a445f55",
   "metadata": {},
   "outputs": [
    {
     "name": "stdout",
     "output_type": "stream",
     "text": [
      "$x_0$ = 1.00000000000000000000000000000000000000000000000000\n"
     ]
    }
   ],
   "source": [
    "steps=20;\n",
    "delta=1e-3;\n",
    "\n",
    "div = @(t) 1/t;\n",
    "newton_iteration = @(x_n) x_n - log(x_n) * x_n;\n",
    "\n",
    "x=3.0;\n",
    "for c=1:steps\n",
    "    x = round(newton_iteration(x), 50);\n",
    "end\n",
    "fprintf('$x_0$ = %.50f\\n', x);"
   ]
  },
  {
   "cell_type": "markdown",
   "id": "68e9d07f",
   "metadata": {},
   "source": []
  }
 ],
 "metadata": {
  "kernelspec": {
   "display_name": "MATLAB Kernel",
   "language": "matlab",
   "name": "jupyter_matlab_kernel"
  },
  "language_info": {
   "file_extension": ".m",
   "mimetype": "text/x-matlab",
   "name": "matlab"
  }
 },
 "nbformat": 4,
 "nbformat_minor": 5
}
