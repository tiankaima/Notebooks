{
 "cells": [
  {
   "cell_type": "markdown",
   "id": "6e04eb38-e083-40ac-8f52-6182864f1806",
   "metadata": {},
   "source": [
    "# Lecture 4"
   ]
  },
  {
   "cell_type": "markdown",
   "id": "654557dc-d110-4514-a194-09e3d00d3a5c",
   "metadata": {},
   "source": [
    "## Q 4.1\n",
    "\n",
    "### Question\n",
    "\n",
    "Discussion behaviors of $a_n = sin(n)$ when $n \\to +\\infty$\n",
    "\n",
    "* Plot $(n, a_n)\\quad n=1,2,\\cdots ,N$. Based on that graph, do you think limit $a_n$ exists?\n",
    "* Do you see any patterns on the graph?\n",
    "* Forall"
   ]
  },
  {
   "cell_type": "code",
   "execution_count": 9,
   "id": "bc711a22-118b-45b3-8d9e-8828cdd09985",
   "metadata": {},
   "outputs": [
    {
     "data": {
      "image/png": "[encoded data removed]"
     },
     "execution_count": 9,
     "metadata": {},
     "output_type": "execute_result"
    }
   ],
   "source": [
    "N = 5000;\n",
    "x = 1:N;\n",
    "y = sin(x);\n",
    "\n",
    "plot(x,y);"
   ]
  },
  {
   "cell_type": "code",
   "execution_count": null,
   "id": "6fdcf644-7604-4c37-8c26-a7f2e8d3ba61",
   "metadata": {},
   "outputs": [],
   "source": []
  }
 ],
 "metadata": {
  "kernelspec": {
   "display_name": "MATLAB Kernel",
   "language": "matlab",
   "name": "jupyter_matlab_kernel"
  },
  "language_info": {
   "file_extension": ".m",
   "mimetype": "text/x-matlab",
   "name": "matlab"
  }
 },
 "nbformat": 4,
 "nbformat_minor": 5
}
