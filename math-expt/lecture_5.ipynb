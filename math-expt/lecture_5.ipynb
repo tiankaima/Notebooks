{
 "cells": [
  {
   "cell_type": "markdown",
   "id": "6e04eb38-e083-40ac-8f52-6182864f1806",
   "metadata": {},
   "source": [
    "# Lecture 5"
   ]
  },
  {
   "cell_type": "markdown",
   "id": "654557dc-d110-4514-a194-09e3d00d3a5c",
   "metadata": {},
   "source": [
    "## Q 5.1\n",
    "\n",
    "### Question\n",
    "\n",
    "Calculate all prime numbers under 500, using the following algorithmn:\n",
    "\n",
    "- Eratothenes' sieve\n",
    "- Trial division\n",
    "- Fermat's little theorem -> Euler's criterion\n",
    "- Probabilistic primality test\n",
    "\n",
    "Discuss the efficiency of each algorithmn."
   ]
  },
  {
   "cell_type": "markdown",
   "id": "bc711a22-118b-45b3-8d9e-8828cdd09985",
   "metadata": {},
   "source": [
    "### Solution\n",
    "\n",
    "#### Eratothenes' sieve"
   ]
  },
  {
   "cell_type": "code",
   "execution_count": 2,
   "id": "6fdcf644-7604-4c37-8c26-a7f2e8d3ba61",
   "metadata": {},
   "outputs": [
    {
     "name": "stdout",
     "output_type": "stream",
     "text": [
      "2    3    5    7   11   13   17   19   23   29   31   37   41   43   47   53   59   61   67   71   73   79   83   89   97  101  103  107  109  113  127  131  137  139  149  151  157  163  167  173  179  181  191  193  197  199  211  223  227  229  233  239  241  251  257  263  269  271  277  281  283  293  307  311  313  317  331  337  347  349  353  359  367  373  379  383  389  397  401  409  419  421  431  433  439  443  449  457  461  463  467  479  487  491  499\n",
      "Elapsed time is 0.041646 seconds.\n"
     ]
    }
   ],
   "source": [
    "tic\n",
    "N=500;\n",
    "x=2:N;\n",
    "\n",
    "for i=2:N-1\n",
    "    % remove i*2 i*3 ... in x\n",
    "    j=2;\n",
    "    while j*i <= N\n",
    "        x(j*i-1) = 0;\n",
    "        j=j+1;\n",
    "    end\n",
    "end\n",
    "\n",
    "x = x(x~=0);\n",
    "disp(num2str(x));\n",
    "toc\n",
    "clear all;"
   ]
  },
  {
   "cell_type": "markdown",
   "id": "3caaf13d",
   "metadata": {},
   "source": [
    "#### Trial division"
   ]
  },
  {
   "cell_type": "code",
   "execution_count": 36,
   "id": "d8f07247",
   "metadata": {},
   "outputs": [
    {
     "name": "stdout",
     "output_type": "stream",
     "text": [
      "2    3    5    7   11   13   17   19   23   29   31   37   41   43   47   53   59   61   67   71   73   79   83   89   97  101  103  107  109  113  127  131  137  139  149  151  157  163  167  173  179  181  191  193  197  199  211  223  227  229  233  239  241  251  257  263  269  271  277  281  283  293  307  311  313  317  331  337  347  349  353  359  367  373  379  383  389  397  401  409  419  421  431  433  439  443  449  457  461  463  467  479  487  491  499\n",
      "Elapsed time is 0.040362 seconds.\n"
     ]
    }
   ],
   "source": [
    "tic\n",
    "N=500;\n",
    "x=2:N;\n",
    "\n",
    "for i=2:N\n",
    "    % determine if i is prime using [2:i-1], set x(i-1) to 0 if not\n",
    "    for j=2:1:floor(sqrt(i))\n",
    "        if mod(i,j) == 0\n",
    "            x(i-1) = 0;\n",
    "            break;\n",
    "        end\n",
    "    end\n",
    "end\n",
    "\n",
    "x = x(x~=0);\n",
    "disp(num2str(x));\n",
    "toc\n",
    "clear all;"
   ]
  },
  {
   "cell_type": "markdown",
   "id": "50d37b8a",
   "metadata": {},
   "source": [
    "#### Fermat's little theorem -> Euler's criterion"
   ]
  },
  {
   "cell_type": "code",
   "execution_count": 37,
   "id": "bc91bfc8",
   "metadata": {},
   "outputs": [
    {
     "name": "stderr",
     "output_type": "stream",
     "text": [
      "Failed to execute. Operation may have interrupted by user."
     ]
    }
   ],
   "source": [
    "tic\n",
    "N=500;\n",
    "x=2:N;\n",
    "\n",
    "for n=3:N\n",
    "    if mod(n,2) == 0\n",
    "        x(n-1) = 0;\n",
    "        continue;\n",
    "    end\n",
    "\n",
    "    a=1;\n",
    "    while a<70*log(n)^2\n",
    "        if mod(sym(a)^((n-1)/2) - jacobiSymbol(a,n),n) == 0\n",
    "            a=a+1;\n",
    "        else\n",
    "            x(n-1) = 0;\n",
    "            break;\n",
    "        end\n",
    "    end\n",
    "end\n",
    "\n",
    "x = x(x~=0);\n",
    "disp(num2str(x));\n",
    "toc\n",
    "clear all;"
   ]
  },
  {
   "cell_type": "markdown",
   "id": "bc796833",
   "metadata": {},
   "source": [
    "> Due to timeout limits in jupyter notebook, the above code is runned in `Q_5_3.m` and here are the results:\n",
    "\n",
    "> ```\n",
    "> 2    3    5    7   11   13   17   19   23   29   31   37   41   43   47   53   59   61   67   71   73   79   83   89   97  101  103  107  109  113  127  131  137  139  149  151  157  163  167  173  179  181  191  193  197  199  211  223  227  229  233  239  241  251  257  263  269  271  277  281  283  293  307  311  313  317  331  337  347  349  353  359  367  373  379  383  389  397  401  409  419  421  431  433  439  443  449  457  461  463  467  479  487  491  499\n",
    "> Elapsed time is 341.076231 seconds.\n",
    "> ```"
   ]
  },
  {
   "cell_type": "markdown",
   "id": "d41323e9",
   "metadata": {},
   "source": [
    "#### Probabilistic primality test"
   ]
  },
  {
   "cell_type": "code",
   "execution_count": 1,
   "id": "516a54f9",
   "metadata": {},
   "outputs": [
    {
     "name": "stdout",
     "output_type": "stream",
     "text": [
      "2    3    5    7   11   13   17   19   23   29   31   37   41   43   47   53   59   61   67   71   73   79   83   89   97  101  103  107  109  113  127  131  137  139  149  151  157  163  167  173  179  181  191  193  197  199  211  223  227  229  233  239  241  251  257  263  269  271  277  281  283  293  307  311  313  317  331  337  347  349  353  359  367  373  379  383  389  397  401  409  419  421  431  433  439  443  449  457  461  463  467  479  487  491  499\n",
      "Elapsed time is 13.656130 seconds.\n"
     ]
    }
   ],
   "source": [
    "tic\n",
    "N=500;\n",
    "x=2:N;\n",
    "k=100;\n",
    "s=rng();\n",
    "\n",
    "for n=3:N\n",
    "    for i=1:k\n",
    "        % pick random a\n",
    "        a = randi([2,n-1],1,1);\n",
    "\n",
    "        % if n mod a == 0, n is not prime\n",
    "        if mod(n,a) == 0\n",
    "            x(n-1) = 0;\n",
    "            break;\n",
    "        end\n",
    "\n",
    "        % calc J=a^(n-1)/2 mod n\n",
    "        J = mod(sym(a)^((n-1)/2),n);\n",
    "\n",
    "        % if j!=+-1, n is not prime\n",
    "        if J ~= 1 && J ~= n-1\n",
    "            x(n-1) = 0;\n",
    "            break;\n",
    "        end\n",
    "    end\n",
    "end\n",
    "\n",
    "x = x(x~=0);\n",
    "disp(num2str(x));\n",
    "toc\n",
    "clear all;"
   ]
  },
  {
   "cell_type": "markdown",
   "id": "fa0854b1",
   "metadata": {},
   "source": [
    "## Q 5.2\n",
    "### Question\n",
    "\n",
    "#### Task 1\n",
    "\n",
    "Draw all prime numbers on $\\mathbb{R}$, visualize the distribution of prime numbers.\n",
    "\n",
    "#### Task 2\n",
    "\n",
    "Use $\\pi(x)$ to denote the number of prime numbers less than $x$, and $\\pi(m,n)$ to denote the number of prime numbers between $m$ and $n$.\n",
    "\n",
    "Calculate $\\pi(10^k)$ for $k=2,3,4$, also $\\pi(100,200), \\pi(1000,1100), \\pi(10000,10100)$. Based on the result, is prime number getting denser or sparser?"
   ]
  },
  {
   "cell_type": "markdown",
   "id": "27f526fb",
   "metadata": {},
   "source": [
    "### Solution\n",
    "\n",
    "#### Task 1"
   ]
  },
  {
   "cell_type": "code",
   "execution_count": 15,
   "id": "4485a00c",
   "metadata": {},
   "outputs": [
    {
     "data": {
      "image/png": "[encoded data removed]"
     },
     "execution_count": 15,
     "metadata": {},
     "output_type": "execute_result"
    }
   ],
   "source": [
    "N=1000;\n",
    "x=2:N;\n",
    "\n",
    "for i=2:N\n",
    "    for j=2:1:floor(sqrt(i))\n",
    "        if mod(i,j) == 0\n",
    "            x(i-1) = 0;\n",
    "            break;\n",
    "        end\n",
    "    end\n",
    "end\n",
    "x = x(x~=0);\n",
    "\n",
    "h1=figure(1);clf\n",
    "hold on\n",
    "xlim([0, N]);ylim([-1,1])\n",
    "plot(x,0,'kx','markersize',10)\n",
    "axis off\n",
    "title('Prime Numbers [2,1000]')\n",
    "clear all;"
   ]
  },
  {
   "cell_type": "markdown",
   "id": "2ff63dc0",
   "metadata": {},
   "source": [
    "#### Task 2"
   ]
  },
  {
   "cell_type": "code",
   "execution_count": 19,
   "id": "d7ba1758",
   "metadata": {},
   "outputs": [
    {
     "name": "stdout",
     "output_type": "stream",
     "text": [
      "pi(100) = 25\n",
      "pi(1000) = 168\n",
      "pi(10000) = 1229\n",
      "pi(200) - pi(100) = 21\n",
      "pi(1100) - pi(1000) = 16\n",
      "pi(10100) - pi(10000) = 11\n"
     ]
    }
   ],
   "source": [
    "N=10100;\n",
    "x=2:N;\n",
    "\n",
    "for i=2:N\n",
    "    for j=2:1:floor(sqrt(i))\n",
    "        if mod(i,j) == 0\n",
    "            x(i-1) = 0;\n",
    "            break;\n",
    "        end\n",
    "    end\n",
    "end\n",
    "x = x(x~=0);\n",
    "\n",
    "pi_100 = length(x(x<=100));\n",
    "fprintf('pi(100) = %d\\n',pi_100);\n",
    "pi_1000 = length(x(x<=1000));\n",
    "fprintf('pi(1000) = %d\\n',pi_1000);\n",
    "pi_10000 = length(x(x<=10000));\n",
    "fprintf('pi(10000) = %d\\n',pi_10000);\n",
    "\n",
    "pi_100_200 = length(x(x<=200)) - length(x(x<=100));\n",
    "fprintf('pi(200) - pi(100) = %d\\n',pi_100_200);\n",
    "pi_1000_1100 = length(x(x<=1100)) - length(x(x<=1000));\n",
    "fprintf('pi(1100) - pi(1000) = %d\\n',pi_1000_1100);\n",
    "pi_10000_10100 = length(x(x<=10100)) - length(x(x<=10000));\n",
    "fprintf('pi(10100) - pi(10000) = %d\\n',pi_10000_10100);"
   ]
  },
  {
   "cell_type": "markdown",
   "id": "65560799",
   "metadata": {},
   "source": [
    "So it's getting sparser."
   ]
  },
  {
   "cell_type": "markdown",
   "id": "21bf011a",
   "metadata": {},
   "source": []
  }
 ],
 "metadata": {
  "kernelspec": {
   "display_name": "MATLAB Kernel",
   "language": "matlab",
   "name": "jupyter_matlab_kernel"
  },
  "language_info": {
   "file_extension": ".m",
   "mimetype": "text/x-matlab",
   "name": "matlab"
  }
 },
 "nbformat": 4,
 "nbformat_minor": 5
}
