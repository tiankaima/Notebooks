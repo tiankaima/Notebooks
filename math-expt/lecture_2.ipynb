{
 "cells": [
  {
   "cell_type": "markdown",
   "id": "9fede717-3e27-4334-b5ff-be7cf16968bc",
   "metadata": {},
   "source": [
    "# Lecture 2"
   ]
  },
  {
   "cell_type": "markdown",
   "id": "d17e6227-46e2-41c5-8184-408652883e14",
   "metadata": {
    "tags": []
   },
   "source": [
    "## Q 2.1\n",
    "\n",
    "### Question"
   ]
  },
  {
   "cell_type": "code",
   "execution_count": null,
   "id": "0f09832c-2872-47b2-a687-f8e5875107c8",
   "metadata": {},
   "outputs": [],
   "source": []
  }
 ],
 "metadata": {
  "kernelspec": {
   "display_name": "MATLAB Kernel",
   "language": "matlab",
   "name": "jupyter_matlab_kernel"
  },
  "language_info": {
   "file_extension": ".m",
   "mimetype": "text/x-matlab",
   "name": "matlab"
  }
 },
 "nbformat": 4,
 "nbformat_minor": 5
}
