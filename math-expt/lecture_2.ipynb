{
 "cells": [
  {
   "cell_type": "markdown",
   "id": "9fede717-3e27-4334-b5ff-be7cf16968bc",
   "metadata": {},
   "source": [
    "# Lecture 2"
   ]
  },
  {
   "cell_type": "markdown",
   "id": "d17e6227-46e2-41c5-8184-408652883e14",
   "metadata": {
    "tags": []
   },
   "source": [
    "## Q 2.1\n",
    "\n",
    "### Question\n",
    "\n",
    "#### Task 1\n",
    "\n",
    "Calculate the value of $\\pi$ using the iterative formula of circle secant, create table in this format:\n",
    "\n",
    "| Iteration | Number of sides | Upper Bound | Lower Bound |\n",
    "| --- | --- | --- | --- |\n",
    "\n",
    "\n",
    "#### Task 2\n",
    "\n",
    "Calculate the value of $\\pi$, use extrapolation to accelerate calculations, create table in this format:\n",
    "\n",
    "| Iteration | Number of sides | Approximation |\n",
    "| --- | --- | --- |\n",
    "\n",
    "#### Task 3\n",
    "\n",
    "Calculate the value of $\\pi$, use Borwein's algorithm to accelerate calculations, create table in this format:\n",
    "\n",
    "| Iteration | Number of sides | Approximation |\n",
    "| --- | --- | --- |"
   ]
  },
  {
   "cell_type": "markdown",
   "id": "8dd22ea0",
   "metadata": {},
   "source": [
    "------"
   ]
  },
  {
   "cell_type": "markdown",
   "id": "f184fedb",
   "metadata": {},
   "source": [
    "### Solution"
   ]
  },
  {
   "cell_type": "markdown",
   "id": "3c07629d",
   "metadata": {},
   "source": [
    "#### Task 1"
   ]
  },
  {
   "cell_type": "code",
   "execution_count": 1,
   "id": "0f09832c-2872-47b2-a687-f8e5875107c8",
   "metadata": {},
   "outputs": [
    {
     "name": "stdout",
     "output_type": "stream",
     "text": [
      "Iteration=1, Sides=6, Upper Bound=2.59807621135331601181, Lower Bound=3.89711431702997401771\n",
      "Iteration=2, Sides=12, Upper Bound=2.99999999999999955591, Lower Bound=3.40192378864668310001\n",
      "Iteration=3, Sides=24, Upper Bound=3.10582854123024887372, Lower Bound=3.21165708246049819152\n",
      "Iteration=4, Sides=48, Upper Bound=3.13262861328123776161, Lower Bound=3.15942868533222664951\n",
      "Iteration=5, Sides=96, Upper Bound=3.13935020304686673853, Lower Bound=3.14607179281249571545\n",
      "Iteration=6, Sides=192, Upper Bound=3.14103195089050934996, Lower Bound=3.14271369873415196139\n",
      "Iteration=7, Sides=384, Upper Bound=3.14145247228546153906, Lower Bound=3.14187299368041372816\n",
      "Iteration=8, Sides=768, Upper Bound=3.14155760791185745262, Lower Bound=3.14166274353825336618\n",
      "Iteration=9, Sides=1536, Upper Bound=3.14158389214831768044, Lower Bound=3.14161017638477790825\n",
      "Iteration=10, Sides=3072, Upper Bound=3.14159046322804957896, Lower Bound=3.14159703430778147748\n",
      "Iteration=11, Sides=6144, Upper Bound=3.14159210599927130048, Lower Bound=3.14159374877049302199\n",
      "Iteration=12, Sides=12288, Upper Bound=3.14159251669215677794, Lower Bound=3.14159292738504225539\n",
      "Iteration=13, Sides=24576, Upper Bound=3.14159261936538358739, Lower Bound=3.14159272203861039685\n",
      "Iteration=14, Sides=49152, Upper Bound=3.14159264503369062282, Lower Bound=3.14159267070199765826\n",
      "Iteration=15, Sides=98304, Upper Bound=3.14159265145076727066, Lower Bound=3.14159265786784391850\n",
      "Iteration=16, Sides=196608, Upper Bound=3.14159265305503687671, Lower Bound=3.14159265465930648276\n",
      "Iteration=17, Sides=393216, Upper Bound=3.14159265345610361209, Lower Bound=3.14159265385717034746\n",
      "Iteration=18, Sides=786432, Upper Bound=3.14159265355637007389, Lower Bound=3.14159265365663653569\n",
      "Iteration=19, Sides=1572864, Upper Bound=3.14159265358143757751, Lower Bound=3.14159265360650508114\n",
      "Iteration=20, Sides=3145728, Upper Bound=3.14159265358770412035, Lower Bound=3.14159265359397066320\n",
      "Iteration=21, Sides=6291456, Upper Bound=3.14159265358927086709, Lower Bound=3.14159265359083761382\n",
      "Iteration=22, Sides=12582912, Upper Bound=3.14159265358966255377, Lower Bound=3.14159265359005424045\n",
      "Iteration=23, Sides=25165824, Upper Bound=3.14159265358976025340, Lower Bound=3.14159265358985795302\n",
      "Iteration=24, Sides=50331648, Upper Bound=3.14159265358978512239, Lower Bound=3.14159265358980999139\n",
      "Iteration=25, Sides=100663296, Upper Bound=3.14159265358979089555, Lower Bound=3.14159265358979666871\n",
      "Iteration=26, Sides=201326592, Upper Bound=3.14159265358979222782, Lower Bound=3.14159265358979356009\n",
      "Iteration=27, Sides=402653184, Upper Bound=3.14159265358979311600, Lower Bound=3.14159265358979400418\n",
      "Iteration=28, Sides=805306368, Upper Bound=3.14159265358979311600, Lower Bound=3.14159265358979311600\n",
      "Iteration=29, Sides=1610612736, Upper Bound=3.14159265358979311600, Lower Bound=3.14159265358979311600\n",
      "Iteration=30, Sides=3221225472, Upper Bound=3.14159265358979311600, Lower Bound=3.14159265358979311600\n"
     ]
    }
   ],
   "source": [
    "% iterate = @(x) sqrt(2-2*sqrt(1-(x/2)^2));\n",
    "S = @(n) 3*2^(n-1)*sin(pi/(3*2^(n-1)));\n",
    "\n",
    "for n=1:30\n",
    "    sides=6*2^(n-1);\n",
    "    upper_bound=S(n);\n",
    "    lower_bound=2*S(n)-S(n-1);\n",
    "    fprintf('Iteration=%d, Sides=%d, Upper Bound=%.20f, Lower Bound=%.20f\\n', n, sides, upper_bound, lower_bound);\n",
    "end"
   ]
  },
  {
   "cell_type": "markdown",
   "id": "7a6e851d",
   "metadata": {},
   "source": [
    "#### Task 2"
   ]
  },
  {
   "cell_type": "code",
   "execution_count": 2,
   "id": "ce098e1c",
   "metadata": {},
   "outputs": [
    {
     "name": "stdout",
     "output_type": "stream",
     "text": [
      "Iteration=1, Sides=6, Approx=3.03108891324553519908\n",
      "Iteration=2, Sides=12, Approx=3.13397459621556073728\n",
      "Iteration=3, Sides=24, Approx=3.14110472164033183162\n",
      "Iteration=4, Sides=48, Approx=3.14156197063156739091\n",
      "Iteration=5, Sides=96, Approx=3.14159073296874247205\n",
      "Iteration=6, Sides=192, Approx=3.14159253350505673907\n",
      "Iteration=7, Sides=384, Approx=3.14159264608377863937\n",
      "Iteration=8, Sides=768, Approx=3.14159265312065594244\n",
      "Iteration=9, Sides=1536, Approx=3.14159265356047079365\n",
      "Iteration=10, Sides=3072, Approx=3.14159265358796035983\n",
      "Iteration=11, Sides=6144, Approx=3.14159265358967854098\n",
      "Iteration=12, Sides=12288, Approx=3.14159265358978467830\n",
      "Iteration=13, Sides=24576, Approx=3.14159265358979267191\n",
      "Iteration=14, Sides=49152, Approx=3.14159265358979267191\n",
      "Iteration=15, Sides=98304, Approx=3.14159265358979311600\n",
      "Iteration=16, Sides=196608, Approx=3.14159265358979311600\n",
      "Iteration=17, Sides=393216, Approx=3.14159265358979222782\n",
      "Iteration=18, Sides=786432, Approx=3.14159265358979178373\n",
      "Iteration=19, Sides=1572864, Approx=3.14159265358979356009\n",
      "Iteration=20, Sides=3145728, Approx=3.14159265358979267191\n",
      "Iteration=21, Sides=6291456, Approx=3.14159265358979311600\n",
      "Iteration=22, Sides=12582912, Approx=3.14159265358979311600\n",
      "Iteration=23, Sides=25165824, Approx=3.14159265358979311600\n",
      "Iteration=24, Sides=50331648, Approx=3.14159265358979311600\n",
      "Iteration=25, Sides=100663296, Approx=3.14159265358979311600\n",
      "Iteration=26, Sides=201326592, Approx=3.14159265358979267191\n",
      "Iteration=27, Sides=402653184, Approx=3.14159265358979311600\n",
      "Iteration=28, Sides=805306368, Approx=3.14159265358979311600\n",
      "Iteration=29, Sides=1610612736, Approx=3.14159265358979311600\n",
      "Iteration=30, Sides=3221225472, Approx=3.14159265358979311600\n"
     ]
    }
   ],
   "source": [
    "S = @(n) 3*2^(n-1)*sin(pi/(3*2^(n-1)));\n",
    "\n",
    "for n=1:30\n",
    "    sides=6*2^(n-1);\n",
    "    guess=4/3*S(n)-1/3*S(n-1);\n",
    "    fprintf('Iteration=%d, Sides=%d, Approx=%.20f\\n', n, sides, guess);\n",
    "end"
   ]
  },
  {
   "cell_type": "markdown",
   "id": "25a5ff20",
   "metadata": {},
   "source": [
    "#### Task 3"
   ]
  },
  {
   "cell_type": "code",
   "execution_count": 3,
   "id": "6d9008ef",
   "metadata": {},
   "outputs": [
    {
     "name": "stdout",
     "output_type": "stream",
     "text": [
      "Iteration 1: 2.914213562373094479340807083645\n",
      "Iteration 2: 3.140579250522167242820614774246\n",
      "Iteration 3: 3.141592646213542394661999423988\n",
      "Iteration 4: 3.141592653589798000979271819233\n",
      "Iteration 5: 3.141592653589798000979271819233\n",
      "Iteration 6: 3.141592653589798000979271819233\n",
      "Iteration 7: 3.141592653589798000979271819233\n",
      "Iteration 8: 3.141592653589798000979271819233\n",
      "Iteration 9: 3.141592653589798000979271819233\n",
      "Iteration 10: 3.141592653589798000979271819233\n",
      "Iteration 11: 3.141592653589798000979271819233\n",
      "Iteration 12: 3.141592653589798000979271819233\n",
      "Iteration 13: 3.141592653589798000979271819233\n",
      "Iteration 14: 3.141592653589798000979271819233\n",
      "Iteration 15: 3.141592653589798000979271819233\n",
      "Iteration 16: 3.141592653589798000979271819233\n",
      "Iteration 17: 3.141592653589798000979271819233\n",
      "Iteration 18: 3.141592653589798000979271819233\n",
      "Iteration 19: 3.141592653589798000979271819233\n",
      "Iteration 20: 3.141592653589798000979271819233\n",
      "Iteration 21: 3.141592653589798000979271819233\n",
      "Iteration 22: 3.141592653589798000979271819233\n",
      "Iteration 23: 3.141592653589798000979271819233\n",
      "Iteration 24: 3.141592653589798000979271819233\n",
      "Iteration 25: 3.141592653589798000979271819233\n",
      "Iteration 26: 3.141592653589798000979271819233\n",
      "Iteration 27: 3.141592653589798000979271819233\n",
      "Iteration 28: 3.141592653589798000979271819233\n",
      "Iteration 29: 3.141592653589798000979271819233\n",
      "Iteration 30: 3.141592653589798000979271819233\n"
     ]
    }
   ],
   "source": [
    "y_0 = 1/sqrt(2);\n",
    "alpha_0 = 1/2;\n",
    "\n",
    "y=[y_0];\n",
    "alpha=[alpha_0];\n",
    "\n",
    "for i=1:30\n",
    "    y(i+1) = (1-sqrt(1-y(i)^2))/(1+sqrt(1-y(i)^2));\n",
    "    alpha(i+1) = (1+y(i+1))^2*alpha(i)-2^(i)*y(i+1);\n",
    "\n",
    "    fprintf('Iteration %d: %.30f\\n', i, 1/alpha(i+1));\n",
    "end"
   ]
  },
  {
   "cell_type": "markdown",
   "id": "5fa78a92",
   "metadata": {},
   "source": [
    "## Q 2.2\n",
    "\n",
    "### Question\n",
    "\n",
    "In three dimensional space, cylindrical surfaces $x^2 + y^2 = 1$, $x^2 + z^2 = 1$ and $y^2 + z^2 = 1$ form a solid body, calculate its volume using Monte Carlo method."
   ]
  },
  {
   "cell_type": "markdown",
   "id": "8f36ae95",
   "metadata": {},
   "source": [
    "### Solution"
   ]
  },
  {
   "cell_type": "code",
   "execution_count": 4,
   "id": "275c9c96",
   "metadata": {},
   "outputs": [
    {
     "name": "stdout",
     "output_type": "stream",
     "text": [
      "Volume of body: 0.58578021000000002338\n"
     ]
    }
   ],
   "source": [
    "count=0;\n",
    "total=100000000;\n",
    "for i=1:total\n",
    "    x=rand();\n",
    "    y=rand();\n",
    "    z=rand();\n",
    "    if x^2+y^2<=1 & x^2+z^2<=1 & y^2+z^2<=1\n",
    "        count=count+1;\n",
    "    end\n",
    "end\n",
    "\n",
    "fprintf('Volume of body: %.20f\\n', count/total);"
   ]
  },
  {
   "cell_type": "code",
   "execution_count": null,
   "id": "c56ab3ed",
   "metadata": {},
   "outputs": [],
   "source": []
  }
 ],
 "metadata": {
  "kernelspec": {
   "display_name": "MATLAB Kernel",
   "language": "matlab",
   "name": "jupyter_matlab_kernel"
  },
  "language_info": {
   "file_extension": ".m",
   "mimetype": "text/x-matlab",
   "name": "matlab"
  }
 },
 "nbformat": 4,
 "nbformat_minor": 5
}
