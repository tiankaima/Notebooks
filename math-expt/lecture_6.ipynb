{
 "cells": [
  {
   "cell_type": "markdown",
   "metadata": {},
   "source": [
    "# Lecture 6\n",
    "\n",
    "## Q 6.1\n",
    "\n",
    "### Question\n",
    "\n",
    "Task: Plot mobious strip in 3D, using method described as the following:\n",
    "\n",
    "1. Draw a circle in the x-y plane\n",
    "2. Draw a vertical line at the beginning of the circle, rotate it around the circle, and draw the path of the line\n",
    "\n",
    "Requirements:\n",
    "\n",
    "A GIF animation of the process."
   ]
  },
  {
   "cell_type": "markdown",
   "metadata": {},
   "source": [
    "### Solution"
   ]
  },
  {
   "cell_type": "markdown",
   "metadata": {},
   "source": [
    "The code is pretty much self-explanatory with the comments."
   ]
  },
  {
   "cell_type": "code",
   "execution_count": null,
   "metadata": {},
   "outputs": [],
   "source": [
    "% goal: plot mobious strip.\n",
    "\n",
    "% details:\n",
    "%\n",
    "% 1. in 3d, draw x^2 + y^2 = 1 as the base.\n",
    "% 2. for every t in [0,2pi) corresponding to the point (cos(t), sin(t)),\n",
    "% 3. draw a line that have slope (=t, in radian) and pass through the point, with a length of 2.\n",
    "% 4. now, split t into 2pi/1000, and repeat 2-3.\n",
    "% 5. create image for every t, and save it as a gif.\n",
    "\n",
    "line_length=0.2;\n",
    "image_count=100;\n",
    "\n",
    "for i=1:image_count\n",
    "    step = 2*pi/image_count;\n",
    "    t_end = i * step;\n",
    "\n",
    "    % circle\n",
    "    t=0:0.01:2*pi;\n",
    "    x=cos(t);\n",
    "    y=sin(t);\n",
    "    z=zeros(size(t));\n",
    "    plot3(x,y,z,'k','LineWidth',2);\n",
    "    hold on;\n",
    "\n",
    "    % lines\n",
    "    for t=0:0.05:t_end\n",
    "        x=[cos(t)*(1-line_length*sin(t/2)), cos(t)*(1+line_length*sin(t/2))];\n",
    "        y=[sin(t)*(1-line_length*sin(t/2)), sin(t)*(1+line_length*sin(t/2))];\n",
    "        z=[-line_length*cos(t/2), line_length*cos(t/2)];\n",
    "        plot3(x,y,z,'k','LineWidth',2);\n",
    "    end\n",
    "\n",
    "    % plotting:\n",
    "    grid on;\n",
    "    daspect([1 1 1])\n",
    "    drawnow;\n",
    "    frame = getframe(1);\n",
    "    im = frame2im(frame);\n",
    "    [imind,cm] = rgb2ind(im,256);\n",
    "    if i == 1\n",
    "      imwrite(imind,cm,'math-expt/week_3/imgs/Q6_1.gif','gif', 'Loopcount',inf);\n",
    "    else\n",
    "      imwrite(imind,cm,'math-expt/week_3/imgs/Q6_1.gif','gif','WriteMode','append');\n",
    "    end\n",
    "end\n"
   ]
  },
  {
   "cell_type": "markdown",
   "metadata": {},
   "source": [
    "![](./week_3/imgs/Q6_1.gif)"
   ]
  }
 ],
 "metadata": {
  "kernelspec": {
   "display_name": "MATLAB Kernel",
   "language": "matlab",
   "name": "jupyter_matlab_kernel"
  },
  "language_info": {
   "file_extension": ".m",
   "mimetype": "text/x-matlab",
   "name": "matlab"
  },
  "orig_nbformat": 4
 },
 "nbformat": 4,
 "nbformat_minor": 2
}
