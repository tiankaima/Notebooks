{
 "cells": [
  {
   "cell_type": "markdown",
   "id": "833c05c6-4e59-4158-9508-9a697b22200d",
   "metadata": {},
   "source": [
    "# Week 1 Homework for Mathematical Experiments"
   ]
  },
  {
   "cell_type": "markdown",
   "id": "49d9cb1a-100b-4581-986b-16420fec68c6",
   "metadata": {},
   "source": [
    "## Q 1.1\n",
    "\n",
    "### Question\n",
    "let $f_n(x) = \\sum\\limits_{k=1}^n (-1)^k \\dfrac {x^{2k +1}} {(2k + 1)!}$, for $n = 3, 4, \\cdots, 7$ calculate zeros near $x = 3$ using newton's method, analyze zeros as n increases."
   ]
  },
  {
   "cell_type": "markdown",
   "id": "919906be-3b07-4371-b642-2ebf65b1fea9",
   "metadata": {},
   "source": [
    "------"
   ]
  },
  {
   "cell_type": "markdown",
   "id": "f977cba8-9fc6-4ff6-9d28-dbba574f3255",
   "metadata": {},
   "source": [
    "### Solution"
   ]
  },
  {
   "cell_type": "markdown",
   "id": "c8c673fc-c542-4bad-9387-4514a6056a43",
   "metadata": {},
   "source": [
    "**About newton's method for apporximating zeros:**\n",
    "\n",
    "Ignoring all the maths, the following iteration formula comes out:\n",
    "\n",
    "$$\n",
    "x_n = x_{n-1} - \\dfrac {f(x_{n-1})} {f^{\\prime}(x_{n-1})}\n",
    "$$\n",
    "\n",
    "So let's break down the goal:\n",
    "* create $f$\n",
    "* create $f^{\\prime}$\n",
    "* create iteration"
   ]
  },
  {
   "cell_type": "markdown",
   "id": "12fe494b-3ab6-4b87-b19a-1af035a2b9ac",
   "metadata": {},
   "source": [
    "#### Step one: Declare the function:\n",
    "\n",
    "> Notes about the following declaration:\n",
    "> * Inline code is used to save space & time, jupyter magic is another workaround, see [here](https://am111.readthedocs.io/en/latest/jmatlab_use.html)\n",
    "> * `sysm k` is used to prevent variable not found error, `symsum` would provide value for `k`"
   ]
  },
  {
   "cell_type": "code",
   "execution_count": 1,
   "id": "b05ccba2-ca66-4f73-b17c-661cef457f39",
   "metadata": {},
   "outputs": [
    {
     "data": {
      "image/png": "[encoded data removed]"
     },
     "execution_count": 1,
     "metadata": {},
     "output_type": "execute_result"
    }
   ],
   "source": [
    "syms k\n",
    "f = @(n,x) symsum((-1)^k*x.^(2*k+1)/factorial(2*k+1),k,0,n+1);\n",
    "\n",
    "% Visualization:\n",
    "x = -pi:0.1:pi;\n",
    "for n=3:7\n",
    "    y = f(n,x);\n",
    "    plot(x,y)\n",
    "    % plot multiple graph into one, otherwise only one graph would be created\n",
    "    hold on\n",
    "end\n",
    "hold off"
   ]
  },
  {
   "cell_type": "markdown",
   "id": "168e1cac-46e0-4e88-af2a-af4766f89a50",
   "metadata": {},
   "source": [
    "#### Step two: Create $f^{\\prime}$"
   ]
  },
  {
   "cell_type": "code",
   "execution_count": 2,
   "id": "cb3e5caa-6c42-4249-ba81-2ea6c8efa878",
   "metadata": {},
   "outputs": [],
   "source": [
    "delta = 1e-8;"
   ]
  },
  {
   "cell_type": "code",
   "execution_count": 3,
   "id": "4f916f02-ede9-4818-b1af-784e054dc4ac",
   "metadata": {},
   "outputs": [
    {
     "data": {
      "text/html": [
       "<html><body><pre>ans = \n",
       "   1.999999993396173\n",
       "</pre></body></html>"
      ],
      "text/plain": [
       "ans = \n",
       "   1.999999993396173\n"
      ]
     },
     "execution_count": 3,
     "metadata": {},
     "output_type": "execute_result"
    },
    {
     "data": {
      "text/html": [
       "<html><body><pre>ans = \n",
       "   3.999999975690116\n",
       "</pre></body></html>"
      ],
      "text/plain": [
       "ans = \n",
       "   3.999999975690116\n"
      ]
     },
     "execution_count": 3,
     "metadata": {},
     "output_type": "execute_result"
    },
    {
     "data": {
      "text/html": [
       "<html><body><pre>ans = \n",
       "   5.999999963535174\n",
       "</pre></body></html>"
      ],
      "text/plain": [
       "ans = \n",
       "   5.999999963535174\n"
      ]
     },
     "execution_count": 3,
     "metadata": {},
     "output_type": "execute_result"
    }
   ],
   "source": [
    "div = @(f,x) (f(x+delta)-f(x-delta))/(2*delta);\n",
    "\n",
    "% test:\n",
    "square = @(x) x^2;\n",
    "div(square, 1)\n",
    "div(square, 2)\n",
    "div(square, 3)"
   ]
  },
  {
   "cell_type": "markdown",
   "id": "d13b4b14-8b62-4e1b-b14e-1d8e112ec4ad",
   "metadata": {},
   "source": [
    "#### Step three: Create iteration"
   ]
  },
  {
   "cell_type": "code",
   "execution_count": 4,
   "id": "25a6f7ff-6922-43ae-8697-040280b796f8",
   "metadata": {},
   "outputs": [
    {
     "data": {
      "text/html": [
       "<html><body><pre>ans = \n",
       "   0.999999993922529\n",
       "</pre></body></html>"
      ],
      "text/plain": [
       "ans = \n",
       "   0.999999993922529\n"
      ]
     },
     "execution_count": 4,
     "metadata": {},
     "output_type": "execute_result"
    },
    {
     "data": {
      "text/html": [
       "<html><body><pre>ans = \n",
       "   0.499999998349043\n",
       "</pre></body></html>"
      ],
      "text/plain": [
       "ans = \n",
       "   0.499999998349043\n"
      ]
     },
     "execution_count": 4,
     "metadata": {},
     "output_type": "execute_result"
    },
    {
     "data": {
      "text/html": [
       "<html><body><pre>ans = \n",
       "   0.250000000562300\n",
       "</pre></body></html>"
      ],
      "text/plain": [
       "ans = \n",
       "   0.250000000562300\n"
      ]
     },
     "execution_count": 4,
     "metadata": {},
     "output_type": "execute_result"
    },
    {
     "data": {
      "text/html": [
       "<html><body><pre>ans = \n",
       "   0.124999999934206\n",
       "</pre></body></html>"
      ],
      "text/plain": [
       "ans = \n",
       "   0.124999999934206\n"
      ]
     },
     "execution_count": 4,
     "metadata": {},
     "output_type": "execute_result"
    }
   ],
   "source": [
    "newton_iteration = @(f, x_n) x_n - f(x_n) / div(f,x_n);\n",
    "\n",
    "% test:\n",
    "newton_iteration(square, 2)\n",
    "newton_iteration(square, 1)\n",
    "newton_iteration(square, 0.5)\n",
    "newton_iteration(square, 0.25)"
   ]
  },
  {
   "cell_type": "markdown",
   "id": "58f37ebb-bced-4125-b624-ad810ac9258d",
   "metadata": {},
   "source": [
    "The result is expected since $(x^2)^\\prime = 2x$, so\n",
    "$$\n",
    "x_n = x_{n-1} - \\dfrac {x_{n-1}^2} {2 x_{n-1}} = \\frac 12 x_{n-1}\n",
    "$$"
   ]
  },
  {
   "cell_type": "markdown",
   "id": "fa84d381-b12e-433f-94bc-381c54f2ee3d",
   "metadata": {},
   "source": [
    "Final loop:"
   ]
  },
  {
   "cell_type": "code",
   "execution_count": 5,
   "id": "3873f5e4-be79-4990-b764-e5f7b1600149",
   "metadata": {},
   "outputs": [],
   "source": [
    "steps = 20;\n",
    "digits_to_keep = 50;"
   ]
  },
  {
   "cell_type": "code",
   "execution_count": 6,
   "id": "a5c5a0f0-4eba-42cd-936f-6e19e759325a",
   "metadata": {},
   "outputs": [
    {
     "name": "stdout",
     "output_type": "stream",
     "text": [
      "[$1]: 0.00000000000000000000000000000000000000000000000000\n",
      "[$2]: 3.07864230444550068810372067673597484827041625976562\n",
      "[$3]: 3.14869007144599422076680639293044805526733398437500\n",
      "[$4]: 3.14114830539512679408176154538523405790328979492188\n",
      "[$5]: 3.14161379827924669427829940104857087135314941406250\n",
      "[$6]: 3.14159188077303053177047331701032817363739013671875\n",
      "[$7]: 3.14159267598624536432794229767750948667526245117188\n",
      "[$8]: 3.14159265310232127532685808546375483274459838867188\n",
      "[$9]: 3.14159265356154282500256158527918159961700439453125\n",
      "[$10]: 3.14159265355399375252432037086691707372665405273438\n",
      "[$11]: 3.14159265355740169312070975138340145349502563476562\n",
      "[$12]: 3.14159265355735417557525579468347132205963134765625\n",
      "[$13]: 3.14159265355735461966446564474608749151229858398438\n",
      "[$14]: 3.14159265355735461966446564474608749151229858398438\n",
      "[$15]: 3.14159265355735461966446564474608749151229858398438\n",
      "[$16]: 3.14159265355735461966446564474608749151229858398438\n",
      "[$17]: 3.14159265355735461966446564474608749151229858398438\n",
      "[$18]: 3.14159265355735461966446564474608749151229858398438\n",
      "[$19]: 3.14159265355735461966446564474608749151229858398438\n",
      "[$20]: 3.14159265355735461966446564474608749151229858398438\n"
     ]
    }
   ],
   "source": [
    "format long;\n",
    "\n",
    "for n=1:steps\n",
    "    f_tmp = @(x) f(n,x);\n",
    "    x=3.0;\n",
    "    for c=1:steps\n",
    "        x = round(newton_iteration(f_tmp, x), digits_to_keep);\n",
    "    end\n",
    "    fprintf('[$%d]: %.50f\\n', n, x);\n",
    "end"
   ]
  },
  {
   "cell_type": "markdown",
   "id": "5fcec3ba-a8dd-4284-8582-724a2586a2fb",
   "metadata": {},
   "source": [
    "As discovered, as n increases, calculated $x_{n0} \\to \\pi$. It should as $n\\to\\infty, f_n \\to\\sin x$, which have a root of $x_0=\\pi$"
   ]
  },
  {
   "cell_type": "code",
   "execution_count": null,
   "id": "932c38ce-fde2-4147-a716-6fcdde221d05",
   "metadata": {},
   "outputs": [],
   "source": []
  }
 ],
 "metadata": {
  "kernelspec": {
   "display_name": "MATLAB Kernel",
   "language": "matlab",
   "name": "jupyter_matlab_kernel"
  },
  "language_info": {
   "file_extension": ".m",
   "mimetype": "text/x-matlab",
   "name": "matlab"
  }
 },
 "nbformat": 4,
 "nbformat_minor": 5
}
