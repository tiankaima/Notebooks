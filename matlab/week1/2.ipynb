{
 "cells": [
  {
   "cell_type": "markdown",
   "id": "833c05c6-4e59-4158-9508-9a697b22200d",
   "metadata": {},
   "source": [
    "# Week 1 Homework for Mathematical Experiments"
   ]
  },
  {
   "cell_type": "markdown",
   "id": "49d9cb1a-100b-4581-986b-16420fec68c6",
   "metadata": {},
   "source": [
    "## Q 1.2\n",
    "\n",
    "### Question\n",
    "Draw $(\\dfrac 1n, \\sin(n)),\\quad \\forall n = 1\\cdots +\\infty$\n",
    "\n",
    "For a given $k$, shown what's the nearest point to $A_k = (\\dfrac 1k, \\sin(k))$ on the graph, connect the graph likewise."
   ]
  },
  {
   "cell_type": "markdown",
   "id": "919906be-3b07-4371-b642-2ebf65b1fea9",
   "metadata": {},
   "source": [
    "------"
   ]
  },
  {
   "cell_type": "markdown",
   "id": "f977cba8-9fc6-4ff6-9d28-dbba574f3255",
   "metadata": {},
   "source": [
    "### Solution"
   ]
  },
  {
   "cell_type": "code",
   "execution_count": 19,
   "id": "15499608-9835-496c-98b7-723ad84bc13b",
   "metadata": {},
   "outputs": [
    {
     "data": {
      "image/png": "[encoded data removed]"
     },
     "execution_count": 19,
     "metadata": {},
     "output_type": "execute_result"
    }
   ],
   "source": [
    "n = 250:10:2000;\n",
    "x = 1./n;\n",
    "y = sin(n);\n",
    "plot(x,y,'.')"
   ]
  },
  {
   "cell_type": "markdown",
   "id": "c8c673fc-c542-4bad-9387-4514a6056a43",
   "metadata": {},
   "source": [
    "There's not too much to analyze here,\n",
    "\n",
    "the basic solution is described as following:\n"
   ]
  },
  {
   "cell_type": "code",
   "execution_count": 22,
   "id": "2ee4d38f-e194-48e1-8dd6-79bbe296614b",
   "metadata": {},
   "outputs": [
    {
     "name": "stderr",
     "output_type": "stream",
     "text": [
      "Error connecting to MATLAB. Check the status of MATLAB by clicking the \"Open MATLAB\" button. Retry after ensuring MATLAB is running successfully"
     ]
    }
   ],
   "source": [
    "for n=250:251\n",
    "    pointN = [1/n, sin(n)]\n",
    "    dmin=inf;\n",
    "    best_m=0;\n",
    "    for m=250:2000\n",
    "        pointM = [1/m, sin(m)]\n",
    "        d = norm(pointN-pointM)\n",
    "        if d < dmin\n",
    "            dmin = d\n",
    "            best_m = m\n",
    "        end\n",
    "    end\n",
    "    disp(pointN)\n",
    "    disp(best_m)\n",
    "    disp(dmin)\n",
    "end"
   ]
  },
  {
   "cell_type": "code",
   "execution_count": null,
   "id": "ea3dbe17-fc05-4acb-ad1e-00e79cb19c9f",
   "metadata": {},
   "outputs": [],
   "source": []
  }
 ],
 "metadata": {
  "kernelspec": {
   "display_name": "MATLAB Kernel",
   "language": "matlab",
   "name": "jupyter_matlab_kernel"
  },
  "language_info": {
   "file_extension": ".m",
   "mimetype": "text/x-matlab",
   "name": "matlab"
  }
 },
 "nbformat": 4,
 "nbformat_minor": 5
}
