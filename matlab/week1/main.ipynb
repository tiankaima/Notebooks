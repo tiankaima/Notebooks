{
 "cells": [
  {
   "cell_type": "markdown",
   "id": "833c05c6-4e59-4158-9508-9a697b22200d",
   "metadata": {},
   "source": [
    "# Week 1 Homework for Mathematical Experiments"
   ]
  },
  {
   "cell_type": "markdown",
   "id": "664b26b4-d8bb-4f52-aa91-177485cb55fd",
   "metadata": {},
   "source": [
    "> 2023.09.04 Mon"
   ]
  },
  {
   "cell_type": "markdown",
   "id": "49d9cb1a-100b-4581-986b-16420fec68c6",
   "metadata": {},
   "source": [
    "## 1.1\n",
    "\n",
    "### Question\n",
    "let $f_n(x) = \\sum\\limits_{k=1}^n (-1)^k \\dfrac {x^{2k +1}} {(2k + 1)!}$, for $n = 3, 4, \\cdots, 7$ calculate zeros near $x = 3$ using newton's method, analyze zeros as n increases."
   ]
  },
  {
   "cell_type": "markdown",
   "id": "919906be-3b07-4371-b642-2ebf65b1fea9",
   "metadata": {},
   "source": [
    "------"
   ]
  },
  {
   "cell_type": "markdown",
   "id": "f977cba8-9fc6-4ff6-9d28-dbba574f3255",
   "metadata": {},
   "source": [
    "### Solution"
   ]
  },
  {
   "cell_type": "markdown",
   "id": "c8c673fc-c542-4bad-9387-4514a6056a43",
   "metadata": {},
   "source": [
    "**About newton's method for apporximating zeros:**\n",
    "\n",
    "Ignoring all the maths, the following iteration formula comes out:\n",
    "\n",
    "$$\n",
    "x_n = x_{n-1} - \\dfrac {f(x_{n-1})} {f^{\\prime}(x_{n-1})}\n",
    "$$\n",
    "\n",
    "So let's break down the goal:\n",
    "* create $f$\n",
    "* create $f^{\\prime}$\n",
    "* create iteration"
   ]
  },
  {
   "cell_type": "markdown",
   "id": "12fe494b-3ab6-4b87-b19a-1af035a2b9ac",
   "metadata": {},
   "source": [
    "#### Step one: Declare the function:\n",
    "\n",
    "> Notes about the following declaration:\n",
    "> * Inline code is used to save space & time, jupyter magic is another workaround, see [here](https://am111.readthedocs.io/en/latest/jmatlab_use.html)\n",
    "> * `sysm k` is used to prevent variable not found error, `symsum` would provide value for `k`"
   ]
  },
  {
   "cell_type": "code",
   "execution_count": 1,
   "id": "b05ccba2-ca66-4f73-b17c-661cef457f39",
   "metadata": {},
   "outputs": [],
   "source": [
    "syms k\n",
    "f = @(n,x) symsum((-1)^k*x.^(2*k+1)/factorial(2*k+1),k,1,n+1);"
   ]
  },
  {
   "cell_type": "markdown",
   "id": "d2e7c159-c31c-42c9-848b-96b22ec60c8a",
   "metadata": {},
   "source": [
    "Visualization:"
   ]
  },
  {
   "cell_type": "code",
   "execution_count": 29,
   "id": "90a041d9-f61d-4faf-97e0-f24dc6cfa994",
   "metadata": {},
   "outputs": [
    {
     "data": {
      "image/png": "[encoded data removed]"
     },
     "execution_count": 29,
     "metadata": {},
     "output_type": "execute_result"
    }
   ],
   "source": [
    "x = -2:0.1:2;\n",
    "for n=3:7\n",
    "    y = f(n,x);\n",
    "    plot(x,y)\n",
    "    hold on % plot multiple graph into one, otherwize only one graph would be created\n",
    "end\n",
    "hold off"
   ]
  },
  {
   "cell_type": "markdown",
   "id": "168e1cac-46e0-4e88-af2a-af4766f89a50",
   "metadata": {},
   "source": [
    "#### Step two: Create $f^{\\prime}$"
   ]
  },
  {
   "cell_type": "code",
   "execution_count": 30,
   "id": "cb3e5caa-6c42-4249-ba81-2ea6c8efa878",
   "metadata": {},
   "outputs": [
    {
     "name": "stderr",
     "output_type": "stream",
     "text": [
      "Error connecting to MATLAB. Check the status of MATLAB by clicking the \"Open MATLAB\" button. Retry after ensuring MATLAB is running successfully"
     ]
    }
   ],
   "source": [
    "delta = 1e-8;\n",
    "steps = 10;"
   ]
  },
  {
   "cell_type": "code",
   "execution_count": 4,
   "id": "4f916f02-ede9-4818-b1af-784e054dc4ac",
   "metadata": {},
   "outputs": [],
   "source": [
    "div = @(f,x) (f(x+delta)-f(x-delta))/(2*delta);"
   ]
  },
  {
   "cell_type": "markdown",
   "id": "6560dfbe-0a47-4531-9fad-810ca11289aa",
   "metadata": {},
   "source": [
    "Verfication:"
   ]
  },
  {
   "cell_type": "code",
   "execution_count": 25,
   "id": "9edbb440-4e02-4c9d-a41c-e8ff9f94a78e",
   "metadata": {},
   "outputs": [
    {
     "data": {
      "text/html": [
       "<html><body><pre>ans =           1.99999999999984</pre></body></html>"
      ],
      "text/plain": [
       "ans =           1.99999999999984"
      ]
     },
     "execution_count": 25,
     "metadata": {},
     "output_type": "execute_result"
    },
    {
     "data": {
      "text/html": [
       "<html><body><pre>ans =           3.99999999999956</pre></body></html>"
      ],
      "text/plain": [
       "ans =           3.99999999999956"
      ]
     },
     "execution_count": 25,
     "metadata": {},
     "output_type": "execute_result"
    },
    {
     "data": {
      "text/html": [
       "<html><body><pre>ans =           5.99999999999934</pre></body></html>"
      ],
      "text/plain": [
       "ans =           5.99999999999934"
      ]
     },
     "execution_count": 25,
     "metadata": {},
     "output_type": "execute_result"
    }
   ],
   "source": [
    "square = @(x) x^2;\n",
    "div(square, 1)\n",
    "div(square, 2)\n",
    "div(square, 3)"
   ]
  },
  {
   "cell_type": "markdown",
   "id": "d13b4b14-8b62-4e1b-b14e-1d8e112ec4ad",
   "metadata": {},
   "source": [
    "#### Step three: Create iteration"
   ]
  },
  {
   "cell_type": "code",
   "execution_count": 7,
   "id": "25a6f7ff-6922-43ae-8697-040280b796f8",
   "metadata": {},
   "outputs": [],
   "source": [
    "newton_iteration = @(f, x_n) x_n - f(x_n) / div(f,x_n);"
   ]
  },
  {
   "cell_type": "markdown",
   "id": "76db626b-cc37-43d6-9d26-39623b8fffcb",
   "metadata": {},
   "source": [
    "Verification:"
   ]
  },
  {
   "cell_type": "code",
   "execution_count": 8,
   "id": "162e2656-354b-403e-bee8-c25607b1b3b9",
   "metadata": {},
   "outputs": [
    {
     "data": {
      "text/html": [
       "<html><body><pre>ans =           0.99999999999989</pre></body></html>"
      ],
      "text/plain": [
       "ans =           0.99999999999989"
      ]
     },
     "execution_count": 8,
     "metadata": {},
     "output_type": "execute_result"
    },
    {
     "data": {
      "text/html": [
       "<html><body><pre>ans =          0.499999999999959</pre></body></html>"
      ],
      "text/plain": [
       "ans =          0.499999999999959"
      ]
     },
     "execution_count": 8,
     "metadata": {},
     "output_type": "execute_result"
    },
    {
     "data": {
      "text/html": [
       "<html><body><pre>ans =          0.249999999999997</pre></body></html>"
      ],
      "text/plain": [
       "ans =          0.249999999999997"
      ]
     },
     "execution_count": 8,
     "metadata": {},
     "output_type": "execute_result"
    },
    {
     "data": {
      "text/html": [
       "<html><body><pre>ans =                      0.125</pre></body></html>"
      ],
      "text/plain": [
       "ans =                      0.125"
      ]
     },
     "execution_count": 8,
     "metadata": {},
     "output_type": "execute_result"
    }
   ],
   "source": [
    "newton_iteration(square, 2)\n",
    "newton_iteration(square, 1)\n",
    "newton_iteration(square, 0.5)\n",
    "newton_iteration(square, 0.25)"
   ]
  },
  {
   "cell_type": "markdown",
   "id": "58f37ebb-bced-4125-b624-ad810ac9258d",
   "metadata": {},
   "source": [
    "The result is expected since $(x^2)^\\prime = 2x$, so\n",
    "$$\n",
    "x_n = x_{n-1} - \\dfrac {x_{n-1}^2} {2 x_{n-1}} = \\frac 12 x_{n-1}\n",
    "$$"
   ]
  },
  {
   "cell_type": "markdown",
   "id": "7d64937b-ae1a-4fca-a5a1-0e7294f105ee",
   "metadata": {},
   "source": [
    "Additionally, let determine how many steps is suitable for this paticluar f:"
   ]
  },
  {
   "cell_type": "code",
   "execution_count": 27,
   "id": "3366c302-65d9-48cf-9a7f-4fb070b1d46a",
   "metadata": {},
   "outputs": [
    {
     "name": "stdout",
     "output_type": "stream",
     "text": [
      "          1.55442509011231\n",
      "         0.990626928503361\n",
      "         0.649224935755621\n",
      "         0.429729856637028\n",
      "         0.285599212657404\n",
      "         0.190140257600866\n",
      "         0.126684269234998\n",
      "        0.0844344477047127\n",
      "        0.0562842540754711\n",
      "        0.0375228261739021\n",
      "        0.0250175892736433\n",
      "        0.0166826567583228\n",
      "        0.0111283711833381\n",
      "       0.00742885602521325\n",
      "       0.00496743271122437\n",
      "       0.00333369001856485\n",
      "       0.00225481866428586\n",
      "       0.00154945745897499\n",
      "       0.00109593876681359\n",
      "      0.000809985662462534\n",
      "      0.000630952099660607\n",
      "      0.000516481782173884\n",
      "      0.000439952126085667\n",
      "      0.000386078761983087\n",
      "      0.000346313111481847\n",
      "      0.000315768659438388\n",
      "      0.000291533010971085\n",
      "      0.000271789319890369\n",
      "      0.000255354489951727\n",
      "      0.000241428112175735\n",
      "      0.000229450328512913\n",
      "      0.000219018050848611\n",
      "      0.000209833685635843\n",
      "      0.000201672664601695\n",
      "      0.000194362246027426\n",
      "      0.000187767291234802\n",
      "      0.000181780485350266\n",
      "      0.000176315465070813\n",
      "       0.00017130189348797\n",
      "      0.000166681867254883\n",
      "      0.000162407253332968\n",
      "      0.000158437685860107\n",
      "      0.000154739039397996\n",
      "      0.000151282251060263\n",
      "      0.000148042401622393\n",
      "      0.000144997991284856\n",
      "      0.000142130363427869\n",
      "      0.000139423242082809\n",
      "      0.000136862357648444\n",
      "      0.000134435141715844\n",
      "      0.000132130476479732\n",
      "      0.000129938487610993\n",
      "      0.000127850371991854\n",
      "      0.000125858253612999\n",
      "      0.000123955062369959\n",
      "      0.000122134431595338\n",
      "      0.000120390611010185\n",
      "      0.000118718392435185\n",
      "      0.000117113046116244\n",
      "      0.000115570265923524\n",
      "      0.000114086122003392\n",
      "      0.000112657019718091\n",
      "      0.000111279663912644\n",
      "       0.00010995102771341\n",
      "      0.000108668325196422\n",
      "      0.000107428987372401\n",
      "      0.000106230641024385\n",
      "      0.000105071090007086\n",
      "      0.000103948298677442\n",
      "      0.000102860377175902\n",
      "      0.000101805568319627\n",
      "      0.000100782235903573\n",
      "      9.97888542345826e-05\n",
      "      9.88239987481717e-05\n",
      "      9.78863375783804e-05\n",
      "      9.69746239686311e-05\n",
      "      9.60876894264225e-05\n",
      "      9.52244375373983e-05\n",
      "      9.43838383651825e-05\n",
      "      9.35649233726761e-05\n",
      "      9.27667808085062e-05\n",
      "      9.19885515092066e-05\n",
      "      9.12294250736587e-05\n",
      "      9.04886363714767e-05\n",
      "      8.97654623514886e-05\n",
      "      8.90592191203608e-05\n",
      "      8.83692592648018e-05\n",
      "       8.7694969393746e-05\n",
      "      8.70357678795149e-05\n",
      "      8.63911027792274e-05\n",
      "      8.57604499197344e-05\n",
      "      8.51433111311153e-05\n",
      "      8.45392126153277e-05\n",
      "      8.39477034379803e-05\n",
      "      8.33683541324115e-05\n",
      "      8.28007554063407e-05\n",
      "      8.22445169423163e-05\n",
      "      8.16992662840379e-05\n",
      "      8.11646478013937e-05\n",
      "      8.06403217277295e-05\n"
     ]
    }
   ],
   "source": [
    "f_tmp = @(x) f(3,x);\n",
    "x=vpa(3,5);\n",
    "for c=1:100\n",
    "    x = newton_iteration(f_tmp, x);\n",
    "    disp(double(x))\n",
    "end"
   ]
  },
  {
   "cell_type": "markdown",
   "id": "fa84d381-b12e-433f-94bc-381c54f2ee3d",
   "metadata": {},
   "source": [
    "Final loop:"
   ]
  },
  {
   "cell_type": "code",
   "execution_count": 9,
   "id": "b5435c4a-7d47-4234-9e43-1d8facd60804",
   "metadata": {},
   "outputs": [],
   "source": [
    "%formats\n",
    "format long g\n",
    "format compact"
   ]
  },
  {
   "cell_type": "code",
   "execution_count": 14,
   "id": "a5c5a0f0-4eba-42cd-936f-6e19e759325a",
   "metadata": {},
   "outputs": [
    {
     "name": "stdout",
     "output_type": "stream",
     "text": [
      "     3\n",
      "        0.0375228261739021\n",
      "     4\n",
      "        0.0377183435392291\n",
      "     5\n",
      "        0.0377046766045707\n",
      "     6\n",
      "        0.0377053698661172\n",
      "     7\n",
      "        0.0377053433777492\n"
     ]
    }
   ],
   "source": [
    "for n=3:7\n",
    "    f_tmp = @(x) f(n,x);\n",
    "    x=vpa(3,5);\n",
    "    for c=1:steps\n",
    "        x = newton_iteration(f_tmp, x);\n",
    "    end\n",
    "    disp(n)\n",
    "    disp(double(x))\n",
    "end"
   ]
  },
  {
   "cell_type": "markdown",
   "id": "5fcec3ba-a8dd-4284-8582-724a2586a2fb",
   "metadata": {},
   "source": [
    "As discovered, as n increases, calculated $x_0$ tend to be stable."
   ]
  },
  {
   "cell_type": "code",
   "execution_count": null,
   "id": "932c38ce-fde2-4147-a716-6fcdde221d05",
   "metadata": {},
   "outputs": [],
   "source": []
  }
 ],
 "metadata": {
  "kernelspec": {
   "display_name": "MATLAB Kernel",
   "language": "matlab",
   "name": "jupyter_matlab_kernel"
  },
  "language_info": {
   "file_extension": ".m",
   "mimetype": "text/x-matlab",
   "name": "matlab"
  }
 },
 "nbformat": 4,
 "nbformat_minor": 5
}
