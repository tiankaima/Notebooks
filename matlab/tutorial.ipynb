{
 "cells": [
  {
   "cell_type": "markdown",
   "id": "d3d28ca2-7d4b-4632-a20d-eadbcea2663f",
   "metadata": {},
   "source": [
    "# Tutorial notebook\n",
    "\n",
    "Stuff to type when following a tutorial"
   ]
  },
  {
   "cell_type": "code",
   "execution_count": 1,
   "id": "4898367f-7c4d-4184-8d8a-71a5205c183b",
   "metadata": {},
   "outputs": [
    {
     "data": {
      "text/html": [
       "<html><body><pre>ans = 10</pre></body></html>"
      ],
      "text/plain": [
       "ans = 10"
      ]
     },
     "execution_count": 1,
     "metadata": {},
     "output_type": "execute_result"
    }
   ],
   "source": [
    "5 + 5"
   ]
  },
  {
   "cell_type": "code",
   "execution_count": 2,
   "id": "fdf81fcb-dc72-46f5-8fbd-edb9ad4c34a4",
   "metadata": {},
   "outputs": [
    {
     "data": {
      "text/html": [
       "<html><body><pre>ans = 9</pre></body></html>"
      ],
      "text/plain": [
       "ans = 9"
      ]
     },
     "execution_count": 2,
     "metadata": {},
     "output_type": "execute_result"
    }
   ],
   "source": [
    "3 ^ 2"
   ]
  },
  {
   "cell_type": "code",
   "execution_count": 3,
   "id": "b31e6de2-9d9e-4a8f-8d7f-b3a266122b2f",
   "metadata": {},
   "outputs": [
    {
     "data": {
      "text/html": [
       "<html><body><pre>ans = 1</pre></body></html>"
      ],
      "text/plain": [
       "ans = 1"
      ]
     },
     "execution_count": 3,
     "metadata": {},
     "output_type": "execute_result"
    }
   ],
   "source": [
    "sin(pi / 2)"
   ]
  },
  {
   "cell_type": "code",
   "execution_count": 4,
   "id": "31580ac2-9f20-433e-910b-961055e8d367",
   "metadata": {},
   "outputs": [
    {
     "data": {
      "text/html": [
       "<html><body><pre>ans = Inf</pre></body></html>"
      ],
      "text/plain": [
       "ans = Inf"
      ]
     },
     "execution_count": 4,
     "metadata": {},
     "output_type": "execute_result"
    }
   ],
   "source": [
    "7 / 0"
   ]
  },
  {
   "cell_type": "code",
   "execution_count": 5,
   "id": "5899d9ed-1d80-4bb2-b44d-195b43a05148",
   "metadata": {},
   "outputs": [
    {
     "data": {
      "text/html": [
       "<html><body><pre>ans = 1.4860e+04</pre></body></html>"
      ],
      "text/plain": [
       "ans = 1.4860e+04"
      ]
     },
     "execution_count": 5,
     "metadata": {},
     "output_type": "execute_result"
    }
   ],
   "source": [
    "732 * 20.3"
   ]
  },
  {
   "cell_type": "code",
   "execution_count": 6,
   "id": "b55d243f-d4cb-4daf-aa03-ebd3cd55573b",
   "metadata": {},
   "outputs": [
    {
     "data": {
      "text/html": [
       "<html><body><pre>y = 8</pre></body></html>"
      ],
      "text/plain": [
       "y = 8"
      ]
     },
     "execution_count": 6,
     "metadata": {},
     "output_type": "execute_result"
    }
   ],
   "source": [
    "x = 3;\n",
    "y = x + 5"
   ]
  },
  {
   "cell_type": "code",
   "execution_count": 7,
   "id": "88390199-b9bf-46f8-863a-b56b70252fc1",
   "metadata": {},
   "outputs": [],
   "source": [
    "x = 3;\n",
    "y = x + 5;"
   ]
  },
  {
   "cell_type": "code",
   "execution_count": 8,
   "id": "2123144d-668b-4083-b5f9-823fd5d7f1fb",
   "metadata": {},
   "outputs": [
    {
     "data": {
      "text/html": [
       "<html><body><pre>x = 9</pre></body></html>"
      ],
      "text/plain": [
       "x = 9"
      ]
     },
     "execution_count": 8,
     "metadata": {},
     "output_type": "execute_result"
    }
   ],
   "source": [
    "x = 9 % comment here"
   ]
  },
  {
   "cell_type": "code",
   "execution_count": 9,
   "id": "d01f5908-dba4-4901-af95-e1a11814a8ec",
   "metadata": {},
   "outputs": [
    {
     "data": {
      "text/html": [
       "<html><body><pre>ans = 0.0000 + 1.0000i</pre></body></html>"
      ],
      "text/plain": [
       "ans = 0.0000 + 1.0000i"
      ]
     },
     "execution_count": 9,
     "metadata": {},
     "output_type": "execute_result"
    }
   ],
   "source": [
    "i"
   ]
  },
  {
   "cell_type": "code",
   "execution_count": 10,
   "id": "d74da073-d950-422e-91ac-2f38f8dce786",
   "metadata": {},
   "outputs": [
    {
     "data": {
      "text/html": [
       "<html><body><pre>ans = 0.0000 + 1.0000i</pre></body></html>"
      ],
      "text/plain": [
       "ans = 0.0000 + 1.0000i"
      ]
     },
     "execution_count": 10,
     "metadata": {},
     "output_type": "execute_result"
    }
   ],
   "source": [
    "j"
   ]
  },
  {
   "cell_type": "code",
   "execution_count": 11,
   "id": "0ce26326-b9b4-4c48-a7fc-ed31c4b3a10b",
   "metadata": {},
   "outputs": [
    {
     "data": {
      "text/html": [
       "<html><body><pre>ans = 3.1416</pre></body></html>"
      ],
      "text/plain": [
       "ans = 3.1416"
      ]
     },
     "execution_count": 11,
     "metadata": {},
     "output_type": "execute_result"
    }
   ],
   "source": [
    "pi"
   ]
  },
  {
   "cell_type": "code",
   "execution_count": 12,
   "id": "6d576487-d730-4a56-bc63-18000f1de66f",
   "metadata": {},
   "outputs": [
    {
     "data": {
      "text/html": [
       "<html><body><pre>ans = 3.1416</pre></body></html>"
      ],
      "text/plain": [
       "ans = 3.1416"
      ]
     },
     "execution_count": 12,
     "metadata": {},
     "output_type": "execute_result"
    }
   ],
   "source": [
    "ans"
   ]
  },
  {
   "cell_type": "code",
   "execution_count": 13,
   "id": "69cc5a4a-909b-455f-a5a2-b422dbc86b9b",
   "metadata": {},
   "outputs": [
    {
     "data": {
      "text/html": [
       "<html><body><pre>ans = 2.2204e-16</pre></body></html>"
      ],
      "text/plain": [
       "ans = 2.2204e-16"
      ]
     },
     "execution_count": 13,
     "metadata": {},
     "output_type": "execute_result"
    }
   ],
   "source": [
    "eps"
   ]
  },
  {
   "cell_type": "code",
   "execution_count": 14,
   "id": "2f05e4bd-26a9-40be-b225-ccd095485861",
   "metadata": {},
   "outputs": [
    {
     "data": {
      "text/html": [
       "<html><body><pre>ans = Inf</pre></body></html>"
      ],
      "text/plain": [
       "ans = Inf"
      ]
     },
     "execution_count": 14,
     "metadata": {},
     "output_type": "execute_result"
    }
   ],
   "source": [
    "Inf"
   ]
  },
  {
   "cell_type": "code",
   "execution_count": 15,
   "id": "56eb5ed2-16ed-4865-8fb6-174a0a3abddc",
   "metadata": {},
   "outputs": [
    {
     "data": {
      "text/html": [
       "<html><body><pre>ans = NaN</pre></body></html>"
      ],
      "text/plain": [
       "ans = NaN"
      ]
     },
     "execution_count": 15,
     "metadata": {},
     "output_type": "execute_result"
    }
   ],
   "source": [
    "NaN"
   ]
  },
  {
   "cell_type": "code",
   "execution_count": 16,
   "id": "af89b66a-7c23-43da-82de-3103531e6dab",
   "metadata": {},
   "outputs": [
    {
     "data": {
      "text/html": [
       "<html><body><pre>x = 3.8730</pre></body></html>"
      ],
      "text/plain": [
       "x = 3.8730"
      ]
     },
     "execution_count": 16,
     "metadata": {},
     "output_type": "execute_result"
    }
   ],
   "source": [
    "x = sqrt(15)"
   ]
  },
  {
   "cell_type": "code",
   "execution_count": 17,
   "id": "fbc1e3f6-d41e-482b-9c95-c7f783a8d3a2",
   "metadata": {},
   "outputs": [
    {
     "name": "stdout",
     "output_type": "stream",
     "text": [
      "\n",
      "Your variables are:\n",
      "\n",
      "ans  x    y    \n",
      "\n"
     ]
    }
   ],
   "source": [
    "who"
   ]
  },
  {
   "cell_type": "code",
   "execution_count": 18,
   "id": "e95fcf3d-1b4f-483e-b085-18aa8ca33a4b",
   "metadata": {},
   "outputs": [
    {
     "name": "stdout",
     "output_type": "stream",
     "text": [
      "  Name      Size            Bytes  Class     Attributes\n",
      "\n",
      "  ans       1x1                 8  double              \n",
      "  x         1x1                 8  double              \n",
      "  y         1x1                 8  double              \n",
      "\n"
     ]
    }
   ],
   "source": [
    "whos"
   ]
  },
  {
   "cell_type": "code",
   "execution_count": 19,
   "id": "c71c7e45-6d08-4226-9ae4-9b02b1675988",
   "metadata": {},
   "outputs": [
    {
     "data": {
      "text/html": [
       "<html><body><pre>variable_that_are_long = 0</pre></body></html>"
      ],
      "text/plain": [
       "variable_that_are_long = 0"
      ]
     },
     "execution_count": 19,
     "metadata": {},
     "output_type": "execute_result"
    }
   ],
   "source": [
    "variable_that_are_long = 0"
   ]
  },
  {
   "cell_type": "code",
   "execution_count": 20,
   "id": "391c3cb4-a8fa-4722-8ccc-d3662e63b345",
   "metadata": {},
   "outputs": [
    {
     "data": {
      "text/html": [
       "<html><body><pre>variableThatAreLong = 0</pre></body></html>"
      ],
      "text/plain": [
       "variableThatAreLong = 0"
      ]
     },
     "execution_count": 20,
     "metadata": {},
     "output_type": "execute_result"
    }
   ],
   "source": [
    "variableThatAreLong = 0"
   ]
  },
  {
   "cell_type": "code",
   "execution_count": 21,
   "id": "a706758a-697f-4b7e-b80b-b4793ea52c9f",
   "metadata": {},
   "outputs": [
    {
     "data": {
      "text/html": [
       "<html><body><pre>x = \n",
       "   1.666666666666667\n",
       "</pre></body></html>"
      ],
      "text/plain": [
       "x = \n",
       "   1.666666666666667\n"
      ]
     },
     "execution_count": 21,
     "metadata": {},
     "output_type": "execute_result"
    }
   ],
   "source": [
    "format long\n",
    "x = 5 / 3"
   ]
  },
  {
   "cell_type": "code",
   "execution_count": 22,
   "id": "84ad3527-142a-4a2f-9e70-684af77a1494",
   "metadata": {},
   "outputs": [
    {
     "data": {
      "text/html": [
       "<html><body><pre>x = \n",
       "   1.666666666666667\n",
       "</pre></body></html>"
      ],
      "text/plain": [
       "x = \n",
       "   1.666666666666667\n"
      ]
     },
     "execution_count": 22,
     "metadata": {},
     "output_type": "execute_result"
    }
   ],
   "source": [
    "x = 5 / 3"
   ]
  },
  {
   "cell_type": "code",
   "execution_count": 23,
   "id": "0abf22ee-ab43-41fb-8336-aa2fe156d865",
   "metadata": {},
   "outputs": [
    {
     "data": {
      "text/html": [
       "<html><body><pre>x = 1.6667</pre></body></html>"
      ],
      "text/plain": [
       "x = 1.6667"
      ]
     },
     "execution_count": 23,
     "metadata": {},
     "output_type": "execute_result"
    }
   ],
   "source": [
    "format short\n",
    "x = 5 / 3"
   ]
  },
  {
   "cell_type": "code",
   "execution_count": 24,
   "id": "83af41ee-7b2d-487b-92df-789f1f5aa37a",
   "metadata": {},
   "outputs": [
    {
     "data": {
      "text/html": [
       "<html><body><pre>x = \n",
       "          3.35\n",
       "</pre></body></html>"
      ],
      "text/plain": [
       "x = \n",
       "          3.35\n"
      ]
     },
     "execution_count": 24,
     "metadata": {},
     "output_type": "execute_result"
    }
   ],
   "source": [
    "format bank\n",
    "x = 5234/ 1561"
   ]
  },
  {
   "cell_type": "markdown",
   "id": "66c52913-6e4b-4a74-84b2-c33c795d752c",
   "metadata": {},
   "source": [
    "## Vectors"
   ]
  },
  {
   "cell_type": "code",
   "execution_count": 25,
   "id": "8bffcd5f-a225-4193-921c-ba32e4154f62",
   "metadata": {},
   "outputs": [],
   "source": [
    "format default"
   ]
  },
  {
   "cell_type": "code",
   "execution_count": 26,
   "id": "2983d235-9dfa-480a-af97-003f8d3042c9",
   "metadata": {},
   "outputs": [
    {
     "data": {
      "text/html": [
       "<html><body><pre>r = 1x4 double\n",
       "     1     2     3     4\n",
       "</pre></body></html>"
      ],
      "text/plain": [
       "r = 1x4 double\n",
       "     1     2     3     4\n"
      ]
     },
     "execution_count": 26,
     "metadata": {},
     "output_type": "execute_result"
    }
   ],
   "source": [
    "r = [1 2 3 4]"
   ]
  },
  {
   "cell_type": "code",
   "execution_count": 27,
   "id": "d7fc0fab-9244-4bb3-95bf-29bbf4d352e2",
   "metadata": {},
   "outputs": [
    {
     "data": {
      "text/html": [
       "<html><body><pre>m = 3x3 double\n",
       "     1     2     3\n",
       "     4     5     6\n",
       "     7     8     9\n",
       "</pre></body></html>"
      ],
      "text/plain": [
       "m = 3x3 double\n",
       "     1     2     3\n",
       "     4     5     6\n",
       "     7     8     9\n"
      ]
     },
     "execution_count": 27,
     "metadata": {},
     "output_type": "execute_result"
    }
   ],
   "source": [
    "m = [\n",
    "1 2 3;\n",
    "4 5 6;\n",
    "7 8 9;\n",
    "]"
   ]
  },
  {
   "cell_type": "code",
   "execution_count": 28,
   "id": "b873a420-0b4d-47ee-a56e-e2760f2996f1",
   "metadata": {},
   "outputs": [
    {
     "data": {
      "text/html": [
       "<html><body><pre>m = 3x3 double\n",
       "     1     2     3\n",
       "     4     5     6\n",
       "     7     8     9\n",
       "</pre></body></html>"
      ],
      "text/plain": [
       "m = 3x3 double\n",
       "     1     2     3\n",
       "     4     5     6\n",
       "     7     8     9\n"
      ]
     },
     "execution_count": 28,
     "metadata": {},
     "output_type": "execute_result"
    }
   ],
   "source": [
    "m"
   ]
  },
  {
   "cell_type": "code",
   "execution_count": 29,
   "id": "c83c0004-0475-4563-94b3-8819fedc19f3",
   "metadata": {},
   "outputs": [],
   "source": [
    "clc"
   ]
  },
  {
   "cell_type": "code",
   "execution_count": 30,
   "id": "8d11de9a-765c-4cbb-ae17-e8342dd9f49d",
   "metadata": {},
   "outputs": [],
   "source": [
    "clear"
   ]
  },
  {
   "cell_type": "code",
   "execution_count": 31,
   "id": "5a6fba7a-d3ba-45f5-8155-fe0f8cef4951",
   "metadata": {},
   "outputs": [
    {
     "data": {
      "text/html": [
       "<html><body><pre>ans = 9.3326e+157</pre></body></html>"
      ],
      "text/plain": [
       "ans = 9.3326e+157"
      ]
     },
     "execution_count": 31,
     "metadata": {},
     "output_type": "execute_result"
    }
   ],
   "source": [
    "factorial(100)"
   ]
  },
  {
   "cell_type": "code",
   "execution_count": 32,
   "id": "5ea8b6d5-12d2-4077-8052-21b0f28335cd",
   "metadata": {},
   "outputs": [
    {
     "data": {
      "text/html": [
       "<html><body><pre>s = \n",
       "  -2.5000 + 1.9365i\n",
       "  -2.5000 - 1.9365i\n",
       "</pre></body></html>"
      ],
      "text/plain": [
       "s = \n",
       "  -2.5000 + 1.9365i\n",
       "  -2.5000 - 1.9365i\n"
      ]
     },
     "execution_count": 32,
     "metadata": {},
     "output_type": "execute_result"
    }
   ],
   "source": [
    "s = roots([1, 5, 10])"
   ]
  },
  {
   "cell_type": "code",
   "execution_count": 33,
   "id": "ad6e5af0-b562-4978-9680-475ea1a72059",
   "metadata": {},
   "outputs": [
    {
     "data": {
      "text/html": [
       "<html><body><pre>x = 1x629 double\n",
       "         0    0.0100    0.0200    0.0300    0.0400    0.0500    0.0600    0.0700    0.0800    0.0900    0.1000    0.1100    0.1200    0.1300    0.1400    0.1500    0.1600    0.1700    0.1800    0.1900    0.2000    0.2100    0.2200    0.2300    0.2400    0.2500    0.2600    0.2700    0.2800    0.2900\n",
       "...</pre></body></html>"
      ],
      "text/plain": [
       "x = 1x629 double\n",
       "         0    0.0100    0.0200    0.0300    0.0400    0.0500    0.0600    0.0700    0.0800    0.0900    0.1000    0.1100    0.1200    0.1300    0.1400    0.1500    0.1600    0.1700    0.1800    0.1900    0.2000    0.2100    0.2200    0.2300    0.2400    0.2500    0.2600    0.2700    0.2800    0.2900\n",
       "..."
      ]
     },
     "execution_count": 33,
     "metadata": {},
     "output_type": "execute_result"
    },
    {
     "data": {
      "image/png": "[encoded data removed]"
     },
     "execution_count": 33,
     "metadata": {},
     "output_type": "execute_result"
    }
   ],
   "source": [
    "x = [0:0.01:2 * pi]\n",
    "plot(x,x)"
   ]
  },
  {
   "cell_type": "code",
   "execution_count": 34,
   "id": "7aa47e2c-e03a-4354-a8dc-98be884eea8f",
   "metadata": {},
   "outputs": [],
   "source": [
    "function max = newmax(n1, n2)\n",
    "max = n1\n",
    "if (n2 > max)\n",
    "    max = n2\n",
    "end\n",
    "end"
   ]
  },
  {
   "cell_type": "code",
   "execution_count": 35,
   "id": "f63a8f89-8de1-4de2-a115-bbde0d8c5e4a",
   "metadata": {},
   "outputs": [
    {
     "name": "stderr",
     "output_type": "stream",
     "text": [
      "Unrecognized function or variable 'newmax'."
     ]
    }
   ],
   "source": [
    "newmax(1,2)"
   ]
  },
  {
   "cell_type": "code",
   "execution_count": null,
   "id": "3dc7411a-b090-4991-a9b5-36665a0f0573",
   "metadata": {},
   "outputs": [],
   "source": []
  }
 ],
 "metadata": {
  "kernelspec": {
   "display_name": "MATLAB Kernel",
   "language": "matlab",
   "name": "jupyter_matlab_kernel"
  },
  "language_info": {
   "file_extension": ".m",
   "mimetype": "text/x-matlab",
   "name": "matlab"
  }
 },
 "nbformat": 4,
 "nbformat_minor": 5
}
