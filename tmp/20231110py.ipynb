{
 "cells": [
  {
   "cell_type": "code",
   "execution_count": 32,
   "id": "4b896e03-eabf-459b-8388-a82b5bd404a1",
   "metadata": {},
   "outputs": [
    {
     "data": {
      "text/latex": [
       "\\begin{equation}\n",
       "\\begin{aligned}\n",
       "& \\int \\frac{x}{1 + \\sin(x)} \\, \\mathrm{d}x  \\\\\n",
       "= & \\int\\frac{x\\cdot(1 - \\sin(x))}{\\cos^2(x)} \\mathrm{d}x \\\\\n",
       "= & \\int x\\cdot(1+\\sin(x))\\mathrm{d}(\\tan(x)) \\\\\n",
       "= & \\int \\arctan(y) \\cdot (1+\\frac{y}{\\sqrt{1+y^2}}) \\mathrm{d}y \\\\\n",
       "= & y\\cdot\\arctan(y) - \\frac 12 \\log(1+y^2) - \\log(y+\\sqrt{y^2+1}) + \\sqrt{1+y^2}\\arctan(y) \\\\\n",
       "= & tan(x)\\cdot x - \\log(\\frac \n",
       "\\end{aligned}\n",
       "\\end{equation}\n"
      ],
      "text/plain": [
       "<IPython.core.display.Latex object>"
      ]
     },
     "metadata": {},
     "output_type": "display_data"
    }
   ],
   "source": [
    "%%latex\n",
    "\\begin{equation}\n",
    "\\begin{aligned}\n",
    "& \\int \\frac{x}{1 + \\sin(x)} \\, \\mathrm{d}x  \\\\\n",
    "= & \\int\\frac{x\\cdot(1 - \\sin(x))}{\\cos^2(x)} \\mathrm{d}x \\\\\n",
    "= & \\int x\\cdot(1+\\sin(x))\\mathrm{d}(\\tan(x)) \\\\\n",
    "= & \\int \\arctan(y) \\cdot (1+\\frac{y}{\\sqrt{1+y^2}}) \\mathrm{d}y \\\\\n",
    "= & y\\cdot\\arctan(y) - \\frac 12 \\log(1+y^2) - \\log(y+\\sqrt{y^2+1}) + \\sqrt{1+y^2}\\arctan(y) \\\\\n",
    "= & tan(x)\\cdot x - \\log(\\frac \n",
    "\\end{aligned}\n",
    "\\end{equation}"
   ]
  },
  {
   "cell_type": "code",
   "execution_count": 4,
   "id": "db3f16c9-49bf-4ac7-acc6-f36f9d721f03",
   "metadata": {},
   "outputs": [
    {
     "data": {
      "text/latex": [
       "\\begin{equation}\n",
       "\\frac 1 {2n+2} < \\int_0^{\\pi/4} \\tan^n x dx < \\frac 1 {2n}\n",
       "\\end{equation}\n"
      ],
      "text/plain": [
       "<IPython.core.display.Latex object>"
      ]
     },
     "metadata": {},
     "output_type": "display_data"
    }
   ],
   "source": [
    "%%latex\n",
    "\\begin{equation}\n",
    "\\frac 1 {2n+2} < \\int_0^{\\pi/4} \\tan^n x dx < \\frac 1 {2n}\n",
    "\\end{equation}"
   ]
  },
  {
   "cell_type": "code",
   "execution_count": 11,
   "id": "a1c3bedf-1933-4af4-9dfb-6b28feac5e90",
   "metadata": {},
   "outputs": [
    {
     "data": {
      "text/latex": [
       "\\begin{equation}\n",
       "\\int_0^{1} e^x x dx = \\left.(x-1)e^x\\right\\vert_{x=0}^{x=1} = 1 \\neq e\n",
       "\\end{equation}\n"
      ],
      "text/plain": [
       "<IPython.core.display.Latex object>"
      ]
     },
     "metadata": {},
     "output_type": "display_data"
    }
   ],
   "source": [
    "%%latex\n",
    "\\begin{equation}\n",
    "\\int_0^{1} e^x x dx = \\left.(x-1)e^x\\right\\vert_{x=0}^{x=1} = 1 \\neq e\n",
    "\\end{equation}"
   ]
  },
  {
   "cell_type": "code",
   "execution_count": null,
   "id": "7929b763-7c8e-45c2-a37f-f20aa81db140",
   "metadata": {},
   "outputs": [],
   "source": []
  }
 ],
 "metadata": {
  "kernelspec": {
   "display_name": "Python 3 (ipykernel)",
   "language": "python",
   "name": "python3"
  },
  "language_info": {
   "codemirror_mode": {
    "name": "ipython",
    "version": 3
   },
   "file_extension": ".py",
   "mimetype": "text/x-python",
   "name": "python",
   "nbconvert_exporter": "python",
   "pygments_lexer": "ipython3",
   "version": "3.9.6"
  }
 },
 "nbformat": 4,
 "nbformat_minor": 5
}
